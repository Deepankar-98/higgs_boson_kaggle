{
 "cells": [
  {
   "cell_type": "code",
   "execution_count": 1,
   "id": "cff62057",
   "metadata": {
    "executionInfo": {
     "elapsed": 12,
     "status": "ok",
     "timestamp": 1627804125101,
     "user": {
      "displayName": "Deepankar Mullick",
      "photoUrl": "https://lh3.googleusercontent.com/a-/AOh14Ggmz-Nr-0TEMVo13LngNEVm6AGK4c57E-3nMbfK=s64",
      "userId": "02437168663279872146"
     },
     "user_tz": -330
    },
    "id": "cff62057"
   },
   "outputs": [],
   "source": [
    "import numpy as np\n",
    "import pandas as pd\n",
    "import matplotlib.pyplot as plt\n",
    "import seaborn as sns\n",
    "import time\n",
    "import os\n",
    "import pickle\n",
    "\n",
    "%matplotlib inline"
   ]
  },
  {
   "cell_type": "code",
   "execution_count": 2,
   "id": "uwQqhFtxUJtQ",
   "metadata": {
    "colab": {
     "base_uri": "https://localhost:8080/",
     "height": 35
    },
    "executionInfo": {
     "elapsed": 8643,
     "status": "ok",
     "timestamp": 1627804133736,
     "user": {
      "displayName": "Deepankar Mullick",
      "photoUrl": "https://lh3.googleusercontent.com/a-/AOh14Ggmz-Nr-0TEMVo13LngNEVm6AGK4c57E-3nMbfK=s64",
      "userId": "02437168663279872146"
     },
     "user_tz": -330
    },
    "id": "uwQqhFtxUJtQ",
    "outputId": "f579571d-3022-4d15-b89c-9888947d6ac7"
   },
   "outputs": [],
   "source": [
    "# import tensorflow as tf\n",
    "# tf.test.gpu_device_name()"
   ]
  },
  {
   "cell_type": "code",
   "execution_count": 3,
   "id": "iEaqcdMVUULf",
   "metadata": {
    "colab": {
     "base_uri": "https://localhost:8080/"
    },
    "executionInfo": {
     "elapsed": 112,
     "status": "ok",
     "timestamp": 1627804133739,
     "user": {
      "displayName": "Deepankar Mullick",
      "photoUrl": "https://lh3.googleusercontent.com/a-/AOh14Ggmz-Nr-0TEMVo13LngNEVm6AGK4c57E-3nMbfK=s64",
      "userId": "02437168663279872146"
     },
     "user_tz": -330
    },
    "id": "iEaqcdMVUULf",
    "outputId": "6120a4d1-fd14-4da5-9db3-c081d2206319"
   },
   "outputs": [],
   "source": [
    "# from tensorflow.python.client import device_lib\n",
    "# device_lib.list_local_devices()"
   ]
  },
  {
   "cell_type": "code",
   "execution_count": 4,
   "id": "m2KrFdeKTxXe",
   "metadata": {
    "colab": {
     "base_uri": "https://localhost:8080/"
    },
    "executionInfo": {
     "elapsed": 108,
     "status": "ok",
     "timestamp": 1627804133743,
     "user": {
      "displayName": "Deepankar Mullick",
      "photoUrl": "https://lh3.googleusercontent.com/a-/AOh14Ggmz-Nr-0TEMVo13LngNEVm6AGK4c57E-3nMbfK=s64",
      "userId": "02437168663279872146"
     },
     "user_tz": -330
    },
    "id": "m2KrFdeKTxXe",
    "outputId": "8b2a785a-f2a0-46b9-c454-1fdc145b597d"
   },
   "outputs": [],
   "source": [
    "# !nvidia-smi"
   ]
  },
  {
   "cell_type": "code",
   "execution_count": 5,
   "id": "66836e92",
   "metadata": {
    "executionInfo": {
     "elapsed": 98,
     "status": "ok",
     "timestamp": 1627804133745,
     "user": {
      "displayName": "Deepankar Mullick",
      "photoUrl": "https://lh3.googleusercontent.com/a-/AOh14Ggmz-Nr-0TEMVo13LngNEVm6AGK4c57E-3nMbfK=s64",
      "userId": "02437168663279872146"
     },
     "user_tz": -330
    },
    "id": "66836e92"
   },
   "outputs": [],
   "source": [
    "# To display all columns:\n",
    "pd.pandas.set_option('display.max_columns', None)"
   ]
  },
  {
   "cell_type": "code",
   "execution_count": 6,
   "id": "CR-p7z4546kn",
   "metadata": {
    "colab": {
     "base_uri": "https://localhost:8080/"
    },
    "executionInfo": {
     "elapsed": 71081,
     "status": "ok",
     "timestamp": 1627804204730,
     "user": {
      "displayName": "Deepankar Mullick",
      "photoUrl": "https://lh3.googleusercontent.com/a-/AOh14Ggmz-Nr-0TEMVo13LngNEVm6AGK4c57E-3nMbfK=s64",
      "userId": "02437168663279872146"
     },
     "user_tz": -330
    },
    "id": "CR-p7z4546kn",
    "outputId": "04811885-3040-4403-e832-0b16e708e6bc"
   },
   "outputs": [],
   "source": [
    "# from google.colab import drive\n",
    "# drive.mount('/content/drive')"
   ]
  },
  {
   "cell_type": "code",
   "execution_count": 7,
   "id": "BZ18vZgJ4JME",
   "metadata": {
    "executionInfo": {
     "elapsed": 31,
     "status": "ok",
     "timestamp": 1627804204736,
     "user": {
      "displayName": "Deepankar Mullick",
      "photoUrl": "https://lh3.googleusercontent.com/a-/AOh14Ggmz-Nr-0TEMVo13LngNEVm6AGK4c57E-3nMbfK=s64",
      "userId": "02437168663279872146"
     },
     "user_tz": -330
    },
    "id": "BZ18vZgJ4JME"
   },
   "outputs": [],
   "source": [
    "# os.chdir(r'/content/drive/MyDrive/higgs boson/')"
   ]
  },
  {
   "cell_type": "code",
   "execution_count": null,
   "id": "zs-TdQazVIY_",
   "metadata": {
    "executionInfo": {
     "elapsed": 34,
     "status": "ok",
     "timestamp": 1627804204742,
     "user": {
      "displayName": "Deepankar Mullick",
      "photoUrl": "https://lh3.googleusercontent.com/a-/AOh14Ggmz-Nr-0TEMVo13LngNEVm6AGK4c57E-3nMbfK=s64",
      "userId": "02437168663279872146"
     },
     "user_tz": -330
    },
    "id": "zs-TdQazVIY_"
   },
   "outputs": [],
   "source": []
  },
  {
   "cell_type": "markdown",
   "id": "ac5b135c",
   "metadata": {
    "id": "ac5b135c"
   },
   "source": [
    "## Loding Data:"
   ]
  },
  {
   "cell_type": "code",
   "execution_count": 8,
   "id": "9155b8b1",
   "metadata": {
    "executionInfo": {
     "elapsed": 9898,
     "status": "ok",
     "timestamp": 1627804214609,
     "user": {
      "displayName": "Deepankar Mullick",
      "photoUrl": "https://lh3.googleusercontent.com/a-/AOh14Ggmz-Nr-0TEMVo13LngNEVm6AGK4c57E-3nMbfK=s64",
      "userId": "02437168663279872146"
     },
     "user_tz": -330
    },
    "id": "9155b8b1"
   },
   "outputs": [],
   "source": [
    "# For colab\n",
    "# df1 = pd.read_csv('train_MICE_median_ind_QuantileTransformer.csv')\n",
    "# df2 = pd.read_csv('train_MICE_med_ind_QT_dropOutlier.csv')\n",
    "\n",
    "df1 = pd.read_csv('../data/interim/train_MICE_median_ind_QuantileTransformer.csv')\n",
    "df2 = pd.read_csv('../data/interim/train_MICE_med_ind_QT_dropOutlier.csv')"
   ]
  },
  {
   "cell_type": "code",
   "execution_count": 9,
   "id": "2488d1c1",
   "metadata": {
    "executionInfo": {
     "elapsed": 24,
     "status": "ok",
     "timestamp": 1627804214611,
     "user": {
      "displayName": "Deepankar Mullick",
      "photoUrl": "https://lh3.googleusercontent.com/a-/AOh14Ggmz-Nr-0TEMVo13LngNEVm6AGK4c57E-3nMbfK=s64",
      "userId": "02437168663279872146"
     },
     "user_tz": -330
    },
    "id": "2488d1c1"
   },
   "outputs": [],
   "source": [
    "X, y = df1.drop(columns=['Weight', 'Label']), df1['Weight']\n",
    "X2, y2 = df2.drop(columns=['Weight', 'Label']), df2['Weight']"
   ]
  },
  {
   "cell_type": "code",
   "execution_count": 10,
   "id": "c7a5cb57",
   "metadata": {
    "colab": {
     "base_uri": "https://localhost:8080/"
    },
    "executionInfo": {
     "elapsed": 24,
     "status": "ok",
     "timestamp": 1627804214613,
     "user": {
      "displayName": "Deepankar Mullick",
      "photoUrl": "https://lh3.googleusercontent.com/a-/AOh14Ggmz-Nr-0TEMVo13LngNEVm6AGK4c57E-3nMbfK=s64",
      "userId": "02437168663279872146"
     },
     "user_tz": -330
    },
    "id": "c7a5cb57",
    "outputId": "550f923f-7592-439d-e8bd-e173a424c523"
   },
   "outputs": [
    {
     "name": "stdout",
     "output_type": "stream",
     "text": [
      "(250000, 33)\n",
      "(236794, 33)\n"
     ]
    }
   ],
   "source": [
    "print(df1.shape, df2.shape, sep='\\n')"
   ]
  },
  {
   "cell_type": "code",
   "execution_count": null,
   "id": "c3d9cf02",
   "metadata": {},
   "outputs": [],
   "source": []
  },
  {
   "cell_type": "markdown",
   "id": "19cd7475",
   "metadata": {
    "id": "19cd7475"
   },
   "source": [
    "## Train-test split:"
   ]
  },
  {
   "cell_type": "code",
   "execution_count": 11,
   "id": "e9295d1b",
   "metadata": {
    "executionInfo": {
     "elapsed": 613,
     "status": "ok",
     "timestamp": 1627804347715,
     "user": {
      "displayName": "Deepankar Mullick",
      "photoUrl": "https://lh3.googleusercontent.com/a-/AOh14Ggmz-Nr-0TEMVo13LngNEVm6AGK4c57E-3nMbfK=s64",
      "userId": "02437168663279872146"
     },
     "user_tz": -330
    },
    "id": "e9295d1b"
   },
   "outputs": [],
   "source": [
    "from sklearn.model_selection import train_test_split\n",
    "\n",
    "X_train, X_test, y_train, y_test = train_test_split(X, y, test_size=30000)     # about 12%\n",
    "X_train2, X_test2, y_train2, y_test2 = train_test_split(X2, y2, test_size=30000)   # about 12%"
   ]
  },
  {
   "cell_type": "code",
   "execution_count": null,
   "id": "013fdba5",
   "metadata": {
    "executionInfo": {
     "elapsed": 21,
     "status": "ok",
     "timestamp": 1627804214615,
     "user": {
      "displayName": "Deepankar Mullick",
      "photoUrl": "https://lh3.googleusercontent.com/a-/AOh14Ggmz-Nr-0TEMVo13LngNEVm6AGK4c57E-3nMbfK=s64",
      "userId": "02437168663279872146"
     },
     "user_tz": -330
    },
    "id": "013fdba5"
   },
   "outputs": [],
   "source": []
  },
  {
   "cell_type": "markdown",
   "id": "d179837c",
   "metadata": {
    "id": "d179837c"
   },
   "source": [
    "## Visualizing Weight column:"
   ]
  },
  {
   "cell_type": "code",
   "execution_count": 12,
   "id": "3189cf71",
   "metadata": {
    "colab": {
     "base_uri": "https://localhost:8080/",
     "height": 877
    },
    "executionInfo": {
     "elapsed": 1622,
     "status": "ok",
     "timestamp": 1627804345340,
     "user": {
      "displayName": "Deepankar Mullick",
      "photoUrl": "https://lh3.googleusercontent.com/a-/AOh14Ggmz-Nr-0TEMVo13LngNEVm6AGK4c57E-3nMbfK=s64",
      "userId": "02437168663279872146"
     },
     "user_tz": -330
    },
    "id": "3189cf71",
    "outputId": "354deba0-0254-4424-d2a9-5ff5e3165bc7"
   },
   "outputs": [
    {
     "data": {
      "text/plain": [
       "<AxesSubplot:xlabel='Weight', ylabel='Count'>"
      ]
     },
     "execution_count": 12,
     "metadata": {},
     "output_type": "execute_result"
    },
    {
     "data": {
      "image/png": "[encoded data removed]",
      "text/plain": [
       "<Figure size 1440x504 with 1 Axes>"
      ]
     },
     "metadata": {
      "needs_background": "light"
     },
     "output_type": "display_data"
    }
   ],
   "source": [
    "plt.figure(figsize=(20, 7))\n",
    "sns.histplot(data=df1, x='Weight', hue='Label')"
   ]
  },
  {
   "cell_type": "code",
   "execution_count": 13,
   "id": "1788a6c3",
   "metadata": {
    "colab": {
     "base_uri": "https://localhost:8080/",
     "height": 463
    },
    "executionInfo": {
     "elapsed": 1782,
     "status": "ok",
     "timestamp": 1627804347112,
     "user": {
      "displayName": "Deepankar Mullick",
      "photoUrl": "https://lh3.googleusercontent.com/a-/AOh14Ggmz-Nr-0TEMVo13LngNEVm6AGK4c57E-3nMbfK=s64",
      "userId": "02437168663279872146"
     },
     "user_tz": -330
    },
    "id": "1788a6c3",
    "outputId": "04edbe60-b94e-4a56-a7d2-17c2db5e4a85"
   },
   "outputs": [
    {
     "data": {
      "text/plain": [
       "<AxesSubplot:xlabel='Weight', ylabel='Count'>"
      ]
     },
     "execution_count": 13,
     "metadata": {},
     "output_type": "execute_result"
    },
    {
     "data": {
      "image/png": "[encoded data removed]",
      "text/plain": [
       "<Figure size 720x504 with 1 Axes>"
      ]
     },
     "metadata": {
      "needs_background": "light"
     },
     "output_type": "display_data"
    }
   ],
   "source": [
    "plt.figure(figsize=(10, 7))\n",
    "sns.histplot(data=df1, x='Weight', hue='Label', log_scale=True, kde=True)"
   ]
  },
  {
   "cell_type": "code",
   "execution_count": null,
   "id": "29a8a768",
   "metadata": {
    "executionInfo": {
     "elapsed": 15,
     "status": "ok",
     "timestamp": 1627804347116,
     "user": {
      "displayName": "Deepankar Mullick",
      "photoUrl": "https://lh3.googleusercontent.com/a-/AOh14Ggmz-Nr-0TEMVo13LngNEVm6AGK4c57E-3nMbfK=s64",
      "userId": "02437168663279872146"
     },
     "user_tz": -330
    },
    "id": "29a8a768"
   },
   "outputs": [],
   "source": []
  },
  {
   "cell_type": "markdown",
   "id": "15ede907",
   "metadata": {
    "id": "15ede907"
   },
   "source": [
    "## Grid Search CV:"
   ]
  },
  {
   "cell_type": "code",
   "execution_count": 14,
   "id": "aavFbQJI7JOQ",
   "metadata": {
    "id": "aavFbQJI7JOQ"
   },
   "outputs": [],
   "source": [
    "# import pickle\n",
    "# # Write the object to file\n",
    "# with open('grid_search_info.pkl', 'wb') as f:\n",
    "#     pickle.dump((t1, t2), f)"
   ]
  },
  {
   "cell_type": "markdown",
   "id": "a63944ca",
   "metadata": {
    "id": "-aGgd9Bu7LVU"
   },
   "source": [
    "<b style=\"color: orange; font-size: 20px;\"> Note:</b><br /> <p>Grid Search CV is turning out to be too computationally expensive. So going with `cross_val_score()` & manually saving the models.</p>"
   ]
  },
  {
   "cell_type": "code",
   "execution_count": null,
   "id": "5c841cb8",
   "metadata": {},
   "outputs": [],
   "source": []
  },
  {
   "cell_type": "markdown",
   "id": "68651fba",
   "metadata": {},
   "source": [
    "## Lazy Predict:\n",
    "\n",
    "The below block of code almost took `8 hrs` in my local machine. Hopefully never doing it again!!!"
   ]
  },
  {
   "cell_type": "code",
   "execution_count": 15,
   "id": "9656fb8c",
   "metadata": {},
   "outputs": [
    {
     "name": "stderr",
     "output_type": "stream",
     "text": [
      "f:\\installationfolder\\anaconda\\envs\\higgs_boson\\lib\\site-packages\\sklearn\\utils\\deprecation.py:143: FutureWarning: The sklearn.utils.testing module is  deprecated in version 0.22 and will be removed in version 0.24. The corresponding classes / functions should instead be imported from sklearn.utils. Anything that cannot be imported from sklearn.utils is now part of the private API.\n",
      "  warnings.warn(message, FutureWarning)\n"
     ]
    }
   ],
   "source": [
    "# Import libraries\n",
    "from lazypredict.Supervised import LazyRegressor\n",
    "\n",
    "# Defines and builds the lazyclassifier\n",
    "reg = LazyRegressor(verbose=0, ignore_warnings=False, custom_metric=None)"
   ]
  },
  {
   "cell_type": "code",
   "execution_count": 22,
   "id": "577b3f5d",
   "metadata": {
    "scrolled": true
   },
   "outputs": [
    {
     "name": "stderr",
     "output_type": "stream",
     "text": [
      " 26%|█████████████████████▍                                                            | 11/42 [07:59<23:34, 45.64s/it]"
     ]
    },
    {
     "name": "stdout",
     "output_type": "stream",
     "text": [
      "GaussianProcessRegressor model failed to execute\n",
      "Unable to allocate 361. GiB for an array with shape (220000, 220000) and data type float64\n"
     ]
    },
    {
     "name": "stderr",
     "output_type": "stream",
     "text": [
      " 40%|█████████████████████████████████▏                                                | 17/42 [18:01<39:01, 93.67s/it]"
     ]
    },
    {
     "name": "stdout",
     "output_type": "stream",
     "text": [
      "KernelRidge model failed to execute\n",
      "Unable to allocate 361. GiB for an array with shape (220000, 220000) and data type float64\n"
     ]
    },
    {
     "name": "stderr",
     "output_type": "stream",
     "text": [
      "100%|█████████████████████████████████████████████████████████████████████████████| 42/42 [14:31:21<00:00, 1244.81s/it]\n"
     ]
    },
    {
     "ename": "NameError",
     "evalue": "name 'models_train' is not defined",
     "output_type": "error",
     "traceback": [
      "\u001b[1;31m---------------------------------------------------------------------------\u001b[0m",
      "\u001b[1;31mNameError\u001b[0m                                 Traceback (most recent call last)",
      "\u001b[1;32mC:\\Users\\DEEPAN~1\\AppData\\Local\\Temp/ipykernel_1540/1571841752.py\u001b[0m in \u001b[0;36m<module>\u001b[1;34m\u001b[0m\n\u001b[0;32m      7\u001b[0m \u001b[1;33m\u001b[0m\u001b[0m\n\u001b[0;32m      8\u001b[0m \u001b[1;31m# Prints the model performance\u001b[0m\u001b[1;33m\u001b[0m\u001b[1;33m\u001b[0m\u001b[1;33m\u001b[0m\u001b[0m\n\u001b[1;32m----> 9\u001b[1;33m \u001b[0mmodels_train\u001b[0m\u001b[1;33m\u001b[0m\u001b[1;33m\u001b[0m\u001b[0m\n\u001b[0m",
      "\u001b[1;31mNameError\u001b[0m: name 'models_train' is not defined"
     ]
    }
   ],
   "source": [
    "models, predictions = reg.fit(X_train, X_test, y_train, y_test)\n",
    "\n",
    "# Prints the model performance\n",
    "models"
   ]
  },
  {
   "cell_type": "code",
   "execution_count": 23,
   "id": "68fcc3b3",
   "metadata": {},
   "outputs": [
    {
     "data": {
      "text/html": [
       "<div>\n",
       "<style scoped>\n",
       "    .dataframe tbody tr th:only-of-type {\n",
       "        vertical-align: middle;\n",
       "    }\n",
       "\n",
       "    .dataframe tbody tr th {\n",
       "        vertical-align: top;\n",
       "    }\n",
       "\n",
       "    .dataframe thead th {\n",
       "        text-align: right;\n",
       "    }\n",
       "</style>\n",
       "<table border=\"1\" class=\"dataframe\">\n",
       "  <thead>\n",
       "    <tr style=\"text-align: right;\">\n",
       "      <th></th>\n",
       "      <th>Adjusted R-Squared</th>\n",
       "      <th>R-Squared</th>\n",
       "      <th>RMSE</th>\n",
       "      <th>Time Taken</th>\n",
       "    </tr>\n",
       "    <tr>\n",
       "      <th>Model</th>\n",
       "      <th></th>\n",
       "      <th></th>\n",
       "      <th></th>\n",
       "      <th></th>\n",
       "    </tr>\n",
       "  </thead>\n",
       "  <tbody>\n",
       "    <tr>\n",
       "      <th>HistGradientBoostingRegressor</th>\n",
       "      <td>0.63</td>\n",
       "      <td>0.63</td>\n",
       "      <td>1.15</td>\n",
       "      <td>9.21</td>\n",
       "    </tr>\n",
       "    <tr>\n",
       "      <th>LGBMRegressor</th>\n",
       "      <td>0.63</td>\n",
       "      <td>0.63</td>\n",
       "      <td>1.15</td>\n",
       "      <td>4.15</td>\n",
       "    </tr>\n",
       "    <tr>\n",
       "      <th>MLPRegressor</th>\n",
       "      <td>0.62</td>\n",
       "      <td>0.62</td>\n",
       "      <td>1.15</td>\n",
       "      <td>242.95</td>\n",
       "    </tr>\n",
       "    <tr>\n",
       "      <th>XGBRegressor</th>\n",
       "      <td>0.62</td>\n",
       "      <td>0.62</td>\n",
       "      <td>1.15</td>\n",
       "      <td>55.54</td>\n",
       "    </tr>\n",
       "    <tr>\n",
       "      <th>ExtraTreesRegressor</th>\n",
       "      <td>0.62</td>\n",
       "      <td>0.62</td>\n",
       "      <td>1.15</td>\n",
       "      <td>282.19</td>\n",
       "    </tr>\n",
       "    <tr>\n",
       "      <th>RandomForestRegressor</th>\n",
       "      <td>0.62</td>\n",
       "      <td>0.62</td>\n",
       "      <td>1.16</td>\n",
       "      <td>1444.73</td>\n",
       "    </tr>\n",
       "    <tr>\n",
       "      <th>NuSVR</th>\n",
       "      <td>0.61</td>\n",
       "      <td>0.61</td>\n",
       "      <td>1.17</td>\n",
       "      <td>29308.84</td>\n",
       "    </tr>\n",
       "    <tr>\n",
       "      <th>GradientBoostingRegressor</th>\n",
       "      <td>0.60</td>\n",
       "      <td>0.60</td>\n",
       "      <td>1.18</td>\n",
       "      <td>266.84</td>\n",
       "    </tr>\n",
       "    <tr>\n",
       "      <th>SVR</th>\n",
       "      <td>0.60</td>\n",
       "      <td>0.60</td>\n",
       "      <td>1.18</td>\n",
       "      <td>20098.85</td>\n",
       "    </tr>\n",
       "    <tr>\n",
       "      <th>BaggingRegressor</th>\n",
       "      <td>0.58</td>\n",
       "      <td>0.58</td>\n",
       "      <td>1.21</td>\n",
       "      <td>103.53</td>\n",
       "    </tr>\n",
       "    <tr>\n",
       "      <th>KNeighborsRegressor</th>\n",
       "      <td>0.54</td>\n",
       "      <td>0.54</td>\n",
       "      <td>1.27</td>\n",
       "      <td>320.53</td>\n",
       "    </tr>\n",
       "    <tr>\n",
       "      <th>PoissonRegressor</th>\n",
       "      <td>0.48</td>\n",
       "      <td>0.48</td>\n",
       "      <td>1.35</td>\n",
       "      <td>1.05</td>\n",
       "    </tr>\n",
       "    <tr>\n",
       "      <th>LassoLarsIC</th>\n",
       "      <td>0.48</td>\n",
       "      <td>0.48</td>\n",
       "      <td>1.35</td>\n",
       "      <td>0.68</td>\n",
       "    </tr>\n",
       "    <tr>\n",
       "      <th>LassoCV</th>\n",
       "      <td>0.48</td>\n",
       "      <td>0.48</td>\n",
       "      <td>1.35</td>\n",
       "      <td>4.37</td>\n",
       "    </tr>\n",
       "    <tr>\n",
       "      <th>LassoLarsCV</th>\n",
       "      <td>0.48</td>\n",
       "      <td>0.48</td>\n",
       "      <td>1.35</td>\n",
       "      <td>2.95</td>\n",
       "    </tr>\n",
       "    <tr>\n",
       "      <th>ElasticNetCV</th>\n",
       "      <td>0.48</td>\n",
       "      <td>0.48</td>\n",
       "      <td>1.35</td>\n",
       "      <td>4.28</td>\n",
       "    </tr>\n",
       "    <tr>\n",
       "      <th>BayesianRidge</th>\n",
       "      <td>0.48</td>\n",
       "      <td>0.48</td>\n",
       "      <td>1.35</td>\n",
       "      <td>0.90</td>\n",
       "    </tr>\n",
       "    <tr>\n",
       "      <th>RidgeCV</th>\n",
       "      <td>0.48</td>\n",
       "      <td>0.48</td>\n",
       "      <td>1.35</td>\n",
       "      <td>1.17</td>\n",
       "    </tr>\n",
       "    <tr>\n",
       "      <th>Ridge</th>\n",
       "      <td>0.48</td>\n",
       "      <td>0.48</td>\n",
       "      <td>1.35</td>\n",
       "      <td>0.77</td>\n",
       "    </tr>\n",
       "    <tr>\n",
       "      <th>TransformedTargetRegressor</th>\n",
       "      <td>0.48</td>\n",
       "      <td>0.48</td>\n",
       "      <td>1.35</td>\n",
       "      <td>0.63</td>\n",
       "    </tr>\n",
       "    <tr>\n",
       "      <th>LinearRegression</th>\n",
       "      <td>0.48</td>\n",
       "      <td>0.48</td>\n",
       "      <td>1.35</td>\n",
       "      <td>0.82</td>\n",
       "    </tr>\n",
       "    <tr>\n",
       "      <th>SGDRegressor</th>\n",
       "      <td>0.48</td>\n",
       "      <td>0.48</td>\n",
       "      <td>1.35</td>\n",
       "      <td>1.02</td>\n",
       "    </tr>\n",
       "    <tr>\n",
       "      <th>HuberRegressor</th>\n",
       "      <td>0.47</td>\n",
       "      <td>0.47</td>\n",
       "      <td>1.36</td>\n",
       "      <td>3.82</td>\n",
       "    </tr>\n",
       "    <tr>\n",
       "      <th>LinearSVR</th>\n",
       "      <td>0.46</td>\n",
       "      <td>0.46</td>\n",
       "      <td>1.37</td>\n",
       "      <td>19.19</td>\n",
       "    </tr>\n",
       "    <tr>\n",
       "      <th>GammaRegressor</th>\n",
       "      <td>0.45</td>\n",
       "      <td>0.45</td>\n",
       "      <td>1.39</td>\n",
       "      <td>0.80</td>\n",
       "    </tr>\n",
       "    <tr>\n",
       "      <th>AdaBoostRegressor</th>\n",
       "      <td>0.45</td>\n",
       "      <td>0.45</td>\n",
       "      <td>1.39</td>\n",
       "      <td>64.81</td>\n",
       "    </tr>\n",
       "    <tr>\n",
       "      <th>OrthogonalMatchingPursuitCV</th>\n",
       "      <td>0.44</td>\n",
       "      <td>0.44</td>\n",
       "      <td>1.40</td>\n",
       "      <td>3.18</td>\n",
       "    </tr>\n",
       "    <tr>\n",
       "      <th>GeneralizedLinearRegressor</th>\n",
       "      <td>0.43</td>\n",
       "      <td>0.43</td>\n",
       "      <td>1.42</td>\n",
       "      <td>0.63</td>\n",
       "    </tr>\n",
       "    <tr>\n",
       "      <th>TweedieRegressor</th>\n",
       "      <td>0.43</td>\n",
       "      <td>0.43</td>\n",
       "      <td>1.42</td>\n",
       "      <td>0.56</td>\n",
       "    </tr>\n",
       "    <tr>\n",
       "      <th>LarsCV</th>\n",
       "      <td>0.43</td>\n",
       "      <td>0.43</td>\n",
       "      <td>1.42</td>\n",
       "      <td>3.00</td>\n",
       "    </tr>\n",
       "    <tr>\n",
       "      <th>OrthogonalMatchingPursuit</th>\n",
       "      <td>0.37</td>\n",
       "      <td>0.37</td>\n",
       "      <td>1.49</td>\n",
       "      <td>0.83</td>\n",
       "    </tr>\n",
       "    <tr>\n",
       "      <th>ElasticNet</th>\n",
       "      <td>0.25</td>\n",
       "      <td>0.25</td>\n",
       "      <td>1.63</td>\n",
       "      <td>0.56</td>\n",
       "    </tr>\n",
       "    <tr>\n",
       "      <th>DecisionTreeRegressor</th>\n",
       "      <td>0.23</td>\n",
       "      <td>0.23</td>\n",
       "      <td>1.64</td>\n",
       "      <td>18.67</td>\n",
       "    </tr>\n",
       "    <tr>\n",
       "      <th>ExtraTreeRegressor</th>\n",
       "      <td>0.20</td>\n",
       "      <td>0.20</td>\n",
       "      <td>1.68</td>\n",
       "      <td>3.15</td>\n",
       "    </tr>\n",
       "    <tr>\n",
       "      <th>DummyRegressor</th>\n",
       "      <td>-0.00</td>\n",
       "      <td>-0.00</td>\n",
       "      <td>1.87</td>\n",
       "      <td>0.38</td>\n",
       "    </tr>\n",
       "    <tr>\n",
       "      <th>LassoLars</th>\n",
       "      <td>-0.00</td>\n",
       "      <td>-0.00</td>\n",
       "      <td>1.87</td>\n",
       "      <td>0.47</td>\n",
       "    </tr>\n",
       "    <tr>\n",
       "      <th>Lasso</th>\n",
       "      <td>-0.00</td>\n",
       "      <td>-0.00</td>\n",
       "      <td>1.87</td>\n",
       "      <td>0.54</td>\n",
       "    </tr>\n",
       "    <tr>\n",
       "      <th>PassiveAggressiveRegressor</th>\n",
       "      <td>-0.03</td>\n",
       "      <td>-0.03</td>\n",
       "      <td>1.90</td>\n",
       "      <td>1.43</td>\n",
       "    </tr>\n",
       "    <tr>\n",
       "      <th>Lars</th>\n",
       "      <td>-0.12</td>\n",
       "      <td>-0.12</td>\n",
       "      <td>1.98</td>\n",
       "      <td>0.49</td>\n",
       "    </tr>\n",
       "    <tr>\n",
       "      <th>RANSACRegressor</th>\n",
       "      <td>-2.60</td>\n",
       "      <td>-2.60</td>\n",
       "      <td>3.55</td>\n",
       "      <td>2.51</td>\n",
       "    </tr>\n",
       "  </tbody>\n",
       "</table>\n",
       "</div>"
      ],
      "text/plain": [
       "                               Adjusted R-Squared  R-Squared  RMSE  Time Taken\n",
       "Model                                                                         \n",
       "HistGradientBoostingRegressor                0.63       0.63  1.15        9.21\n",
       "LGBMRegressor                                0.63       0.63  1.15        4.15\n",
       "MLPRegressor                                 0.62       0.62  1.15      242.95\n",
       "XGBRegressor                                 0.62       0.62  1.15       55.54\n",
       "ExtraTreesRegressor                          0.62       0.62  1.15      282.19\n",
       "RandomForestRegressor                        0.62       0.62  1.16     1444.73\n",
       "NuSVR                                        0.61       0.61  1.17    29308.84\n",
       "GradientBoostingRegressor                    0.60       0.60  1.18      266.84\n",
       "SVR                                          0.60       0.60  1.18    20098.85\n",
       "BaggingRegressor                             0.58       0.58  1.21      103.53\n",
       "KNeighborsRegressor                          0.54       0.54  1.27      320.53\n",
       "PoissonRegressor                             0.48       0.48  1.35        1.05\n",
       "LassoLarsIC                                  0.48       0.48  1.35        0.68\n",
       "LassoCV                                      0.48       0.48  1.35        4.37\n",
       "LassoLarsCV                                  0.48       0.48  1.35        2.95\n",
       "ElasticNetCV                                 0.48       0.48  1.35        4.28\n",
       "BayesianRidge                                0.48       0.48  1.35        0.90\n",
       "RidgeCV                                      0.48       0.48  1.35        1.17\n",
       "Ridge                                        0.48       0.48  1.35        0.77\n",
       "TransformedTargetRegressor                   0.48       0.48  1.35        0.63\n",
       "LinearRegression                             0.48       0.48  1.35        0.82\n",
       "SGDRegressor                                 0.48       0.48  1.35        1.02\n",
       "HuberRegressor                               0.47       0.47  1.36        3.82\n",
       "LinearSVR                                    0.46       0.46  1.37       19.19\n",
       "GammaRegressor                               0.45       0.45  1.39        0.80\n",
       "AdaBoostRegressor                            0.45       0.45  1.39       64.81\n",
       "OrthogonalMatchingPursuitCV                  0.44       0.44  1.40        3.18\n",
       "GeneralizedLinearRegressor                   0.43       0.43  1.42        0.63\n",
       "TweedieRegressor                             0.43       0.43  1.42        0.56\n",
       "LarsCV                                       0.43       0.43  1.42        3.00\n",
       "OrthogonalMatchingPursuit                    0.37       0.37  1.49        0.83\n",
       "ElasticNet                                   0.25       0.25  1.63        0.56\n",
       "DecisionTreeRegressor                        0.23       0.23  1.64       18.67\n",
       "ExtraTreeRegressor                           0.20       0.20  1.68        3.15\n",
       "DummyRegressor                              -0.00      -0.00  1.87        0.38\n",
       "LassoLars                                   -0.00      -0.00  1.87        0.47\n",
       "Lasso                                       -0.00      -0.00  1.87        0.54\n",
       "PassiveAggressiveRegressor                  -0.03      -0.03  1.90        1.43\n",
       "Lars                                        -0.12      -0.12  1.98        0.49\n",
       "RANSACRegressor                             -2.60      -2.60  3.55        2.51"
      ]
     },
     "execution_count": 23,
     "metadata": {},
     "output_type": "execute_result"
    }
   ],
   "source": [
    "models"
   ]
  },
  {
   "cell_type": "code",
   "execution_count": 24,
   "id": "918ea1f8",
   "metadata": {},
   "outputs": [
    {
     "data": {
      "text/html": [
       "<div>\n",
       "<style scoped>\n",
       "    .dataframe tbody tr th:only-of-type {\n",
       "        vertical-align: middle;\n",
       "    }\n",
       "\n",
       "    .dataframe tbody tr th {\n",
       "        vertical-align: top;\n",
       "    }\n",
       "\n",
       "    .dataframe thead th {\n",
       "        text-align: right;\n",
       "    }\n",
       "</style>\n",
       "<table border=\"1\" class=\"dataframe\">\n",
       "  <thead>\n",
       "    <tr style=\"text-align: right;\">\n",
       "      <th></th>\n",
       "      <th>Adjusted R-Squared</th>\n",
       "      <th>R-Squared</th>\n",
       "      <th>RMSE</th>\n",
       "      <th>Time Taken</th>\n",
       "    </tr>\n",
       "    <tr>\n",
       "      <th>Model</th>\n",
       "      <th></th>\n",
       "      <th></th>\n",
       "      <th></th>\n",
       "      <th></th>\n",
       "    </tr>\n",
       "  </thead>\n",
       "  <tbody>\n",
       "    <tr>\n",
       "      <th>HistGradientBoostingRegressor</th>\n",
       "      <td>0.63</td>\n",
       "      <td>0.63</td>\n",
       "      <td>1.15</td>\n",
       "      <td>9.21</td>\n",
       "    </tr>\n",
       "    <tr>\n",
       "      <th>LGBMRegressor</th>\n",
       "      <td>0.63</td>\n",
       "      <td>0.63</td>\n",
       "      <td>1.15</td>\n",
       "      <td>4.15</td>\n",
       "    </tr>\n",
       "    <tr>\n",
       "      <th>MLPRegressor</th>\n",
       "      <td>0.62</td>\n",
       "      <td>0.62</td>\n",
       "      <td>1.15</td>\n",
       "      <td>242.95</td>\n",
       "    </tr>\n",
       "    <tr>\n",
       "      <th>XGBRegressor</th>\n",
       "      <td>0.62</td>\n",
       "      <td>0.62</td>\n",
       "      <td>1.15</td>\n",
       "      <td>55.54</td>\n",
       "    </tr>\n",
       "    <tr>\n",
       "      <th>ExtraTreesRegressor</th>\n",
       "      <td>0.62</td>\n",
       "      <td>0.62</td>\n",
       "      <td>1.15</td>\n",
       "      <td>282.19</td>\n",
       "    </tr>\n",
       "    <tr>\n",
       "      <th>RandomForestRegressor</th>\n",
       "      <td>0.62</td>\n",
       "      <td>0.62</td>\n",
       "      <td>1.16</td>\n",
       "      <td>1444.73</td>\n",
       "    </tr>\n",
       "    <tr>\n",
       "      <th>NuSVR</th>\n",
       "      <td>0.61</td>\n",
       "      <td>0.61</td>\n",
       "      <td>1.17</td>\n",
       "      <td>29308.84</td>\n",
       "    </tr>\n",
       "    <tr>\n",
       "      <th>GradientBoostingRegressor</th>\n",
       "      <td>0.60</td>\n",
       "      <td>0.60</td>\n",
       "      <td>1.18</td>\n",
       "      <td>266.84</td>\n",
       "    </tr>\n",
       "    <tr>\n",
       "      <th>SVR</th>\n",
       "      <td>0.60</td>\n",
       "      <td>0.60</td>\n",
       "      <td>1.18</td>\n",
       "      <td>20098.85</td>\n",
       "    </tr>\n",
       "    <tr>\n",
       "      <th>BaggingRegressor</th>\n",
       "      <td>0.58</td>\n",
       "      <td>0.58</td>\n",
       "      <td>1.21</td>\n",
       "      <td>103.53</td>\n",
       "    </tr>\n",
       "    <tr>\n",
       "      <th>KNeighborsRegressor</th>\n",
       "      <td>0.54</td>\n",
       "      <td>0.54</td>\n",
       "      <td>1.27</td>\n",
       "      <td>320.53</td>\n",
       "    </tr>\n",
       "    <tr>\n",
       "      <th>PoissonRegressor</th>\n",
       "      <td>0.48</td>\n",
       "      <td>0.48</td>\n",
       "      <td>1.35</td>\n",
       "      <td>1.05</td>\n",
       "    </tr>\n",
       "    <tr>\n",
       "      <th>LassoLarsIC</th>\n",
       "      <td>0.48</td>\n",
       "      <td>0.48</td>\n",
       "      <td>1.35</td>\n",
       "      <td>0.68</td>\n",
       "    </tr>\n",
       "    <tr>\n",
       "      <th>LassoCV</th>\n",
       "      <td>0.48</td>\n",
       "      <td>0.48</td>\n",
       "      <td>1.35</td>\n",
       "      <td>4.37</td>\n",
       "    </tr>\n",
       "    <tr>\n",
       "      <th>LassoLarsCV</th>\n",
       "      <td>0.48</td>\n",
       "      <td>0.48</td>\n",
       "      <td>1.35</td>\n",
       "      <td>2.95</td>\n",
       "    </tr>\n",
       "    <tr>\n",
       "      <th>ElasticNetCV</th>\n",
       "      <td>0.48</td>\n",
       "      <td>0.48</td>\n",
       "      <td>1.35</td>\n",
       "      <td>4.28</td>\n",
       "    </tr>\n",
       "    <tr>\n",
       "      <th>BayesianRidge</th>\n",
       "      <td>0.48</td>\n",
       "      <td>0.48</td>\n",
       "      <td>1.35</td>\n",
       "      <td>0.90</td>\n",
       "    </tr>\n",
       "    <tr>\n",
       "      <th>RidgeCV</th>\n",
       "      <td>0.48</td>\n",
       "      <td>0.48</td>\n",
       "      <td>1.35</td>\n",
       "      <td>1.17</td>\n",
       "    </tr>\n",
       "    <tr>\n",
       "      <th>Ridge</th>\n",
       "      <td>0.48</td>\n",
       "      <td>0.48</td>\n",
       "      <td>1.35</td>\n",
       "      <td>0.77</td>\n",
       "    </tr>\n",
       "    <tr>\n",
       "      <th>TransformedTargetRegressor</th>\n",
       "      <td>0.48</td>\n",
       "      <td>0.48</td>\n",
       "      <td>1.35</td>\n",
       "      <td>0.63</td>\n",
       "    </tr>\n",
       "    <tr>\n",
       "      <th>LinearRegression</th>\n",
       "      <td>0.48</td>\n",
       "      <td>0.48</td>\n",
       "      <td>1.35</td>\n",
       "      <td>0.82</td>\n",
       "    </tr>\n",
       "    <tr>\n",
       "      <th>SGDRegressor</th>\n",
       "      <td>0.48</td>\n",
       "      <td>0.48</td>\n",
       "      <td>1.35</td>\n",
       "      <td>1.02</td>\n",
       "    </tr>\n",
       "    <tr>\n",
       "      <th>HuberRegressor</th>\n",
       "      <td>0.47</td>\n",
       "      <td>0.47</td>\n",
       "      <td>1.36</td>\n",
       "      <td>3.82</td>\n",
       "    </tr>\n",
       "    <tr>\n",
       "      <th>LinearSVR</th>\n",
       "      <td>0.46</td>\n",
       "      <td>0.46</td>\n",
       "      <td>1.37</td>\n",
       "      <td>19.19</td>\n",
       "    </tr>\n",
       "    <tr>\n",
       "      <th>GammaRegressor</th>\n",
       "      <td>0.45</td>\n",
       "      <td>0.45</td>\n",
       "      <td>1.39</td>\n",
       "      <td>0.80</td>\n",
       "    </tr>\n",
       "    <tr>\n",
       "      <th>AdaBoostRegressor</th>\n",
       "      <td>0.45</td>\n",
       "      <td>0.45</td>\n",
       "      <td>1.39</td>\n",
       "      <td>64.81</td>\n",
       "    </tr>\n",
       "    <tr>\n",
       "      <th>OrthogonalMatchingPursuitCV</th>\n",
       "      <td>0.44</td>\n",
       "      <td>0.44</td>\n",
       "      <td>1.40</td>\n",
       "      <td>3.18</td>\n",
       "    </tr>\n",
       "    <tr>\n",
       "      <th>GeneralizedLinearRegressor</th>\n",
       "      <td>0.43</td>\n",
       "      <td>0.43</td>\n",
       "      <td>1.42</td>\n",
       "      <td>0.63</td>\n",
       "    </tr>\n",
       "    <tr>\n",
       "      <th>TweedieRegressor</th>\n",
       "      <td>0.43</td>\n",
       "      <td>0.43</td>\n",
       "      <td>1.42</td>\n",
       "      <td>0.56</td>\n",
       "    </tr>\n",
       "    <tr>\n",
       "      <th>LarsCV</th>\n",
       "      <td>0.43</td>\n",
       "      <td>0.43</td>\n",
       "      <td>1.42</td>\n",
       "      <td>3.00</td>\n",
       "    </tr>\n",
       "    <tr>\n",
       "      <th>OrthogonalMatchingPursuit</th>\n",
       "      <td>0.37</td>\n",
       "      <td>0.37</td>\n",
       "      <td>1.49</td>\n",
       "      <td>0.83</td>\n",
       "    </tr>\n",
       "    <tr>\n",
       "      <th>ElasticNet</th>\n",
       "      <td>0.25</td>\n",
       "      <td>0.25</td>\n",
       "      <td>1.63</td>\n",
       "      <td>0.56</td>\n",
       "    </tr>\n",
       "    <tr>\n",
       "      <th>DecisionTreeRegressor</th>\n",
       "      <td>0.23</td>\n",
       "      <td>0.23</td>\n",
       "      <td>1.64</td>\n",
       "      <td>18.67</td>\n",
       "    </tr>\n",
       "    <tr>\n",
       "      <th>ExtraTreeRegressor</th>\n",
       "      <td>0.20</td>\n",
       "      <td>0.20</td>\n",
       "      <td>1.68</td>\n",
       "      <td>3.15</td>\n",
       "    </tr>\n",
       "    <tr>\n",
       "      <th>DummyRegressor</th>\n",
       "      <td>-0.00</td>\n",
       "      <td>-0.00</td>\n",
       "      <td>1.87</td>\n",
       "      <td>0.38</td>\n",
       "    </tr>\n",
       "    <tr>\n",
       "      <th>LassoLars</th>\n",
       "      <td>-0.00</td>\n",
       "      <td>-0.00</td>\n",
       "      <td>1.87</td>\n",
       "      <td>0.47</td>\n",
       "    </tr>\n",
       "    <tr>\n",
       "      <th>Lasso</th>\n",
       "      <td>-0.00</td>\n",
       "      <td>-0.00</td>\n",
       "      <td>1.87</td>\n",
       "      <td>0.54</td>\n",
       "    </tr>\n",
       "    <tr>\n",
       "      <th>PassiveAggressiveRegressor</th>\n",
       "      <td>-0.03</td>\n",
       "      <td>-0.03</td>\n",
       "      <td>1.90</td>\n",
       "      <td>1.43</td>\n",
       "    </tr>\n",
       "    <tr>\n",
       "      <th>Lars</th>\n",
       "      <td>-0.12</td>\n",
       "      <td>-0.12</td>\n",
       "      <td>1.98</td>\n",
       "      <td>0.49</td>\n",
       "    </tr>\n",
       "    <tr>\n",
       "      <th>RANSACRegressor</th>\n",
       "      <td>-2.60</td>\n",
       "      <td>-2.60</td>\n",
       "      <td>3.55</td>\n",
       "      <td>2.51</td>\n",
       "    </tr>\n",
       "  </tbody>\n",
       "</table>\n",
       "</div>"
      ],
      "text/plain": [
       "                               Adjusted R-Squared  R-Squared  RMSE  Time Taken\n",
       "Model                                                                         \n",
       "HistGradientBoostingRegressor                0.63       0.63  1.15        9.21\n",
       "LGBMRegressor                                0.63       0.63  1.15        4.15\n",
       "MLPRegressor                                 0.62       0.62  1.15      242.95\n",
       "XGBRegressor                                 0.62       0.62  1.15       55.54\n",
       "ExtraTreesRegressor                          0.62       0.62  1.15      282.19\n",
       "RandomForestRegressor                        0.62       0.62  1.16     1444.73\n",
       "NuSVR                                        0.61       0.61  1.17    29308.84\n",
       "GradientBoostingRegressor                    0.60       0.60  1.18      266.84\n",
       "SVR                                          0.60       0.60  1.18    20098.85\n",
       "BaggingRegressor                             0.58       0.58  1.21      103.53\n",
       "KNeighborsRegressor                          0.54       0.54  1.27      320.53\n",
       "PoissonRegressor                             0.48       0.48  1.35        1.05\n",
       "LassoLarsIC                                  0.48       0.48  1.35        0.68\n",
       "LassoCV                                      0.48       0.48  1.35        4.37\n",
       "LassoLarsCV                                  0.48       0.48  1.35        2.95\n",
       "ElasticNetCV                                 0.48       0.48  1.35        4.28\n",
       "BayesianRidge                                0.48       0.48  1.35        0.90\n",
       "RidgeCV                                      0.48       0.48  1.35        1.17\n",
       "Ridge                                        0.48       0.48  1.35        0.77\n",
       "TransformedTargetRegressor                   0.48       0.48  1.35        0.63\n",
       "LinearRegression                             0.48       0.48  1.35        0.82\n",
       "SGDRegressor                                 0.48       0.48  1.35        1.02\n",
       "HuberRegressor                               0.47       0.47  1.36        3.82\n",
       "LinearSVR                                    0.46       0.46  1.37       19.19\n",
       "GammaRegressor                               0.45       0.45  1.39        0.80\n",
       "AdaBoostRegressor                            0.45       0.45  1.39       64.81\n",
       "OrthogonalMatchingPursuitCV                  0.44       0.44  1.40        3.18\n",
       "GeneralizedLinearRegressor                   0.43       0.43  1.42        0.63\n",
       "TweedieRegressor                             0.43       0.43  1.42        0.56\n",
       "LarsCV                                       0.43       0.43  1.42        3.00\n",
       "OrthogonalMatchingPursuit                    0.37       0.37  1.49        0.83\n",
       "ElasticNet                                   0.25       0.25  1.63        0.56\n",
       "DecisionTreeRegressor                        0.23       0.23  1.64       18.67\n",
       "ExtraTreeRegressor                           0.20       0.20  1.68        3.15\n",
       "DummyRegressor                              -0.00      -0.00  1.87        0.38\n",
       "LassoLars                                   -0.00      -0.00  1.87        0.47\n",
       "Lasso                                       -0.00      -0.00  1.87        0.54\n",
       "PassiveAggressiveRegressor                  -0.03      -0.03  1.90        1.43\n",
       "Lars                                        -0.12      -0.12  1.98        0.49\n",
       "RANSACRegressor                             -2.60      -2.60  3.55        2.51"
      ]
     },
     "execution_count": 24,
     "metadata": {},
     "output_type": "execute_result"
    }
   ],
   "source": [
    "predictions"
   ]
  },
  {
   "cell_type": "code",
   "execution_count": 41,
   "id": "f5b249ff",
   "metadata": {},
   "outputs": [
    {
     "name": "stdout",
     "output_type": "stream",
     "text": [
      "[WinError 183] Cannot create a file when that file already exists: '../reports/lazypredict'\n"
     ]
    }
   ],
   "source": [
    "try:\n",
    "    os.mkdir(r'../reports/lazypredict')\n",
    "    os.mkdir(r'../reports/lazypredict/regg')\n",
    "except FileExistsError as fee:\n",
    "    print(fee)"
   ]
  },
  {
   "cell_type": "code",
   "execution_count": 18,
   "id": "c7316277",
   "metadata": {},
   "outputs": [
    {
     "data": {
      "text/plain": [
       "'sklearn==0.23.1\\nlazypredict==0.2.9'"
      ]
     },
     "execution_count": 18,
     "metadata": {},
     "output_type": "execute_result"
    }
   ],
   "source": [
    "import sklearn\n",
    "ver = 'sklearn==' + str(sklearn.__version__) + '\\nlazypredict==0.2.9'\n",
    "ver"
   ]
  },
  {
   "cell_type": "code",
   "execution_count": 19,
   "id": "ca786125",
   "metadata": {},
   "outputs": [],
   "source": [
    "with open('../reports/lazypredict/regg/dependency.txt', 'w') as fp:\n",
    "    fp.write(ver)"
   ]
  },
  {
   "cell_type": "code",
   "execution_count": 25,
   "id": "c7c9d634",
   "metadata": {},
   "outputs": [
    {
     "data": {
      "text/plain": [
       "'2_12_10_9_2021'"
      ]
     },
     "execution_count": 25,
     "metadata": {},
     "output_type": "execute_result"
    }
   ],
   "source": [
    "sub = str(time.localtime().tm_hour) + '_' + str(time.localtime().tm_min) \\\n",
    "    + '_' + str(time.localtime().tm_mday) + '_' + str(time.localtime().tm_mon) \\\n",
    "    + '_' + str(time.localtime().tm_year)\n",
    "sub"
   ]
  },
  {
   "cell_type": "code",
   "execution_count": 29,
   "id": "f2784fa6",
   "metadata": {},
   "outputs": [
    {
     "name": "stdout",
     "output_type": "stream",
     "text": [
      "Model saved in reports folder...\n",
      "Model saved in models folder...\n"
     ]
    }
   ],
   "source": [
    "# Saving LazyPredict csv files & model for future refernce\n",
    "models.to_csv(f\"../reports/lazypredict/regg/train_{sub}.csv\", index=False)\n",
    "predictions.to_csv(f\"../reports/lazypredict/regg/predict_{sub}.csv\", index=False)\n",
    "\n",
    "\n",
    "# Saving lazypredict model\n",
    "# The saved file is 3.57 GB & must be added in gitignore\n",
    "with open(f'../reports/lazypredict/regg/Lazypredict_regg_model_{sub}.pkl', 'wb') as fptr:\n",
    "    pickle.dump(reg, fptr)\n",
    "    print('Model saved in reports folder...')\n",
    "    \n",
    "# Saving also in models folder:\n",
    "with open(f'../models/regg/Lazypredict_regg_model_{sub}.pkl', 'wb') as fptr:\n",
    "    pickle.dump(reg, fptr)\n",
    "    print('Model saved in models folder...')"
   ]
  },
  {
   "cell_type": "code",
   "execution_count": null,
   "id": "62931587",
   "metadata": {},
   "outputs": [],
   "source": []
  },
  {
   "cell_type": "markdown",
   "id": "580292fc",
   "metadata": {},
   "source": [
    "## Cross Val Score:"
   ]
  },
  {
   "cell_type": "code",
   "execution_count": 24,
   "id": "aa50ffbb",
   "metadata": {},
   "outputs": [],
   "source": [
    "from sklearn.model_selection import GridSearchCV, cross_val_score\n",
    "from sklearn.linear_model import Lasso, LinearRegression, Ridge\n",
    "from sklearn.tree import DecisionTreeRegressor\n",
    "from sklearn.ensemble import RandomForestRegressor, AdaBoostRegressor\n",
    "from sklearn.svm import SVR\n",
    "import xgboost as xgb"
   ]
  },
  {
   "cell_type": "code",
   "execution_count": null,
   "id": "13a1f6aa",
   "metadata": {},
   "outputs": [],
   "source": []
  },
  {
   "cell_type": "markdown",
   "id": "47a627c0",
   "metadata": {},
   "source": [
    "### Metrics:"
   ]
  },
  {
   "cell_type": "code",
   "execution_count": 16,
   "id": "b9bbb423",
   "metadata": {},
   "outputs": [
    {
     "data": {
      "text/plain": [
       "dict_keys(['explained_variance', 'r2', 'max_error', 'neg_median_absolute_error', 'neg_mean_absolute_error', 'neg_mean_absolute_percentage_error', 'neg_mean_squared_error', 'neg_mean_squared_log_error', 'neg_root_mean_squared_error', 'neg_mean_poisson_deviance', 'neg_mean_gamma_deviance', 'accuracy', 'top_k_accuracy', 'roc_auc', 'roc_auc_ovr', 'roc_auc_ovo', 'roc_auc_ovr_weighted', 'roc_auc_ovo_weighted', 'balanced_accuracy', 'average_precision', 'neg_log_loss', 'neg_brier_score', 'adjusted_rand_score', 'rand_score', 'homogeneity_score', 'completeness_score', 'v_measure_score', 'mutual_info_score', 'adjusted_mutual_info_score', 'normalized_mutual_info_score', 'fowlkes_mallows_score', 'precision', 'precision_macro', 'precision_micro', 'precision_samples', 'precision_weighted', 'recall', 'recall_macro', 'recall_micro', 'recall_samples', 'recall_weighted', 'f1', 'f1_macro', 'f1_micro', 'f1_samples', 'f1_weighted', 'jaccard', 'jaccard_macro', 'jaccard_micro', 'jaccard_samples', 'jaccard_weighted'])"
      ]
     },
     "execution_count": 16,
     "metadata": {},
     "output_type": "execute_result"
    }
   ],
   "source": [
    "from sklearn.metrics import SCORERS\n",
    "SCORERS.keys()"
   ]
  },
  {
   "cell_type": "code",
   "execution_count": null,
   "id": "e6c4580c",
   "metadata": {},
   "outputs": [],
   "source": []
  },
  {
   "cell_type": "markdown",
   "id": "436735f0",
   "metadata": {},
   "source": [
    "### SVR:\n",
    "\n",
    "Use sorted(sklearn.metrics.SCORERS.keys()) to get valid scoring options."
   ]
  },
  {
   "cell_type": "code",
   "execution_count": 20,
   "id": "481c5489",
   "metadata": {},
   "outputs": [],
   "source": [
    "dirPath = '../models/regg'\n",
    "if not os.path.isdir(dirPath):\n",
    "    os.mkdir(dirPath)\n",
    "\n",
    "dirPath = '../models/regg/outlier_present'\n",
    "if not os.path.isdir(dirPath):\n",
    "    os.mkdir(dirPath)\n",
    "    \n",
    "def model_eval_and_save(model, save_path, cv=5, scoring='r2'): \n",
    "    \n",
    "    \n",
    "    ## Model 1\n",
    "    start_time = time.time()   #returns in seconds\n",
    "    scores = cross_val_score(model, X=X_train, y=y_train, cv=cv, n_jobs=4, scoring=scoring, verbose=1)\n",
    "    stop_time = time.time()\n",
    "    \n",
    "    print('No outliers:')\n",
    "    print('Time Taken = ',stop_time-start_time, '\\nCross-Val scores', scores, '\\n Mean =', scores.mean())\n",
    "    save_path = save_path + str(abs(round(scores.mean() * 100))) + '.pkl'\n",
    "    path = os.path.join('../models/regg', save_path)\n",
    "    \n",
    "    with open(path, 'wb') as f:\n",
    "        pickle.dump((model, scores), f)\n",
    "        \n",
    "    \n",
    "    ## Model 2\n",
    "    start_time = time.time()   #returns in seconds\n",
    "    scores = cross_val_score(model, X=X_train2, y=y_train2, cv=cv, n_jobs=4, scoring=scoring, verbose=1)\n",
    "    stop_time = time.time()\n",
    "    \n",
    "    print('\\n\\nWith outliers:')\n",
    "    print('Time Taken = ',stop_time-start_time, '\\nCross-Val scores', scores, '\\n Mean =', scores.mean())\n",
    "    save_path = save_path + str(abs(round(scores.mean() * 100))) + '.pkl'\n",
    "    path = os.path.join('../models/regg/outlier_present', save_path)\n",
    "    \n",
    "    with open(path, 'wb') as f:\n",
    "        pickle.dump((model, scores), f)"
   ]
  },
  {
   "cell_type": "code",
   "execution_count": 21,
   "id": "a482fc81",
   "metadata": {},
   "outputs": [
    {
     "name": "stderr",
     "output_type": "stream",
     "text": [
      "[Parallel(n_jobs=4)]: Using backend LokyBackend with 4 concurrent workers.\n",
      "[Parallel(n_jobs=4)]: Done   5 out of   5 | elapsed: 12.2min finished\n"
     ]
    },
    {
     "name": "stdout",
     "output_type": "stream",
     "text": [
      "No outliers:\n",
      "Time Taken =  733.955518245697 \n",
      "Cross-Val scores [0.13868801 0.15352692 0.16746265 0.07005819 0.14554902] \n",
      " Mean = 0.13505695605045967\n"
     ]
    },
    {
     "name": "stderr",
     "output_type": "stream",
     "text": [
      "[Parallel(n_jobs=4)]: Using backend LokyBackend with 4 concurrent workers.\n",
      "[Parallel(n_jobs=4)]: Done   5 out of   5 | elapsed: 13.6min finished\n"
     ]
    },
    {
     "name": "stdout",
     "output_type": "stream",
     "text": [
      "\n",
      "\n",
      "With outliers:\n",
      "Time Taken =  819.3875195980072 \n",
      "Cross-Val scores [ 0.11570777  0.1288641  -0.01794811  0.09418688  0.09094798] \n",
      " Mean = 0.08235172418421069\n"
     ]
    }
   ],
   "source": [
    "svr_regg = SVR(kernel='rbf', gamma='scale', C=1, max_iter=5000, cache_size=2048, verbose=True)\n",
    "model_eval_and_save(svr_regg, 'svr_rbf_C1_gamm_scale_')"
   ]
  },
  {
   "cell_type": "code",
   "execution_count": 22,
   "id": "39802a2b",
   "metadata": {},
   "outputs": [
    {
     "data": {
      "text/plain": [
       "{'C': 1,\n",
       " 'cache_size': 2048,\n",
       " 'coef0': 0.0,\n",
       " 'degree': 3,\n",
       " 'epsilon': 0.1,\n",
       " 'gamma': 'scale',\n",
       " 'kernel': 'rbf',\n",
       " 'max_iter': 5000,\n",
       " 'shrinking': True,\n",
       " 'tol': 0.001,\n",
       " 'verbose': True}"
      ]
     },
     "execution_count": 22,
     "metadata": {},
     "output_type": "execute_result"
    }
   ],
   "source": [
    "svr_regg.get_params()"
   ]
  },
  {
   "cell_type": "code",
   "execution_count": 23,
   "id": "b5e3ecf0",
   "metadata": {},
   "outputs": [
    {
     "name": "stderr",
     "output_type": "stream",
     "text": [
      "[Parallel(n_jobs=4)]: Using backend LokyBackend with 4 concurrent workers.\n",
      "[Parallel(n_jobs=4)]: Done   5 out of   5 | elapsed: 13.8min finished\n"
     ]
    },
    {
     "name": "stdout",
     "output_type": "stream",
     "text": [
      "No outliers:\n",
      "Time Taken =  826.846408367157 \n",
      "Cross-Val scores [-0.03084286  0.00892738  0.15900785 -0.03585802  0.13097372] \n",
      " Mean = 0.046441612353400184\n"
     ]
    },
    {
     "name": "stderr",
     "output_type": "stream",
     "text": [
      "[Parallel(n_jobs=4)]: Using backend LokyBackend with 4 concurrent workers.\n",
      "[Parallel(n_jobs=4)]: Done   5 out of   5 | elapsed: 13.0min finished\n"
     ]
    },
    {
     "name": "stdout",
     "output_type": "stream",
     "text": [
      "\n",
      "\n",
      "With outliers:\n",
      "Time Taken =  783.3531200885773 \n",
      "Cross-Val scores [ 0.14967399 -0.36038079 -0.25764948  0.0980446   0.06140217] \n",
      " Mean = -0.06178190355074169\n"
     ]
    }
   ],
   "source": [
    "svr_regg = SVR(kernel='rbf', C=1, gamma=0.01, max_iter=5000, cache_size=2048, verbose=True)\n",
    "model_eval_and_save(svr_regg, 'svr_rbf_C1_gamma_0.01_')"
   ]
  },
  {
   "cell_type": "code",
   "execution_count": 25,
   "id": "4ed8ca55",
   "metadata": {},
   "outputs": [
    {
     "name": "stderr",
     "output_type": "stream",
     "text": [
      "[Parallel(n_jobs=4)]: Using backend LokyBackend with 4 concurrent workers.\n",
      "[Parallel(n_jobs=4)]: Done   5 out of   5 | elapsed: 21.8min finished\n"
     ]
    },
    {
     "name": "stdout",
     "output_type": "stream",
     "text": [
      "No outliers:\n",
      "Time Taken =  1308.8693397045135 \n",
      "Cross-Val scores [-0.11281205 -0.16048036 -0.17183194 -0.14068904 -0.17968873] \n",
      " Mean = -0.1531004222273557\n"
     ]
    },
    {
     "name": "stderr",
     "output_type": "stream",
     "text": [
      "[Parallel(n_jobs=4)]: Using backend LokyBackend with 4 concurrent workers.\n",
      "[Parallel(n_jobs=4)]: Done   5 out of   5 | elapsed: 16.5min finished\n"
     ]
    },
    {
     "name": "stdout",
     "output_type": "stream",
     "text": [
      "\n",
      "\n",
      "With outliers:\n",
      "Time Taken =  991.2918491363525 \n",
      "Cross-Val scores [-0.07394985 -0.10213282 -0.17384107 -0.12228898 -0.17207099] \n",
      " Mean = -0.1288567436793226\n"
     ]
    }
   ],
   "source": [
    "svr_regg = SVR(kernel='rbf', C=1, gamma=0.1, max_iter=5000, cache_size=2048, verbose=True)\n",
    "model_eval_and_save(svr_regg, 'svr_rbf_C1_gamma_0.1_')"
   ]
  },
  {
   "cell_type": "code",
   "execution_count": 26,
   "id": "bcbe9296",
   "metadata": {},
   "outputs": [
    {
     "name": "stderr",
     "output_type": "stream",
     "text": [
      "[Parallel(n_jobs=4)]: Using backend LokyBackend with 4 concurrent workers.\n",
      "[Parallel(n_jobs=4)]: Done   5 out of   5 | elapsed: 21.2min finished\n"
     ]
    },
    {
     "name": "stdout",
     "output_type": "stream",
     "text": [
      "No outliers:\n",
      "Time Taken =  1273.5208246707916 \n",
      "Cross-Val scores [-0.2522309  -0.27800775 -0.29233762 -0.2589225  -0.26843484] \n",
      " Mean = -0.26998672303366733\n"
     ]
    },
    {
     "name": "stderr",
     "output_type": "stream",
     "text": [
      "[Parallel(n_jobs=4)]: Using backend LokyBackend with 4 concurrent workers.\n",
      "[Parallel(n_jobs=4)]: Done   5 out of   5 | elapsed: 16.6min finished\n"
     ]
    },
    {
     "name": "stdout",
     "output_type": "stream",
     "text": [
      "\n",
      "\n",
      "With outliers:\n",
      "Time Taken =  998.6097266674042 \n",
      "Cross-Val scores [-0.23229521 -0.23860519 -0.23040999 -0.23329007 -0.25685807] \n",
      " Mean = -0.23829170711106112\n"
     ]
    }
   ],
   "source": [
    "svr_regg = SVR(kernel='rbf', C=1, gamma=0.5, max_iter=5000, cache_size=2048, verbose=True)\n",
    "model_eval_and_save(svr_regg, 'svr_rbf_C1_gamma_0.5_')"
   ]
  },
  {
   "cell_type": "code",
   "execution_count": 27,
   "id": "d919f1aa",
   "metadata": {},
   "outputs": [
    {
     "name": "stderr",
     "output_type": "stream",
     "text": [
      "[Parallel(n_jobs=4)]: Using backend LokyBackend with 4 concurrent workers.\n",
      "[Parallel(n_jobs=4)]: Done   5 out of   5 | elapsed: 16.5min finished\n",
      "[Parallel(n_jobs=4)]: Using backend LokyBackend with 4 concurrent workers.\n"
     ]
    },
    {
     "name": "stdout",
     "output_type": "stream",
     "text": [
      "No outliers:\n",
      "Time Taken =  990.5140190124512 \n",
      "Cross-Val scores [-0.35440475 -0.37695757 -0.36823149 -0.38489784 -0.37218779] \n",
      " Mean = -0.37133588878247503\n"
     ]
    },
    {
     "name": "stderr",
     "output_type": "stream",
     "text": [
      "[Parallel(n_jobs=4)]: Done   5 out of   5 | elapsed: 14.9min finished\n"
     ]
    },
    {
     "name": "stdout",
     "output_type": "stream",
     "text": [
      "\n",
      "\n",
      "With outliers:\n",
      "Time Taken =  896.5695567131042 \n",
      "Cross-Val scores [-0.32909969 -0.3336164  -0.33227034 -0.34422327 -0.33718871] \n",
      " Mean = -0.3352796826519828\n"
     ]
    }
   ],
   "source": [
    "svr_regg = SVR(kernel='rbf', C=1, gamma=1, max_iter=5000, cache_size=2048, verbose=True)\n",
    "model_eval_and_save(svr_regg, 'svr_rbf_C1_gamma_1_')"
   ]
  },
  {
   "cell_type": "code",
   "execution_count": 27,
   "id": "449ed4da",
   "metadata": {},
   "outputs": [
    {
     "name": "stderr",
     "output_type": "stream",
     "text": [
      "[Parallel(n_jobs=4)]: Using backend LokyBackend with 4 concurrent workers.\n",
      "[Parallel(n_jobs=4)]: Done   5 out of   5 | elapsed: 12.3min finished\n"
     ]
    },
    {
     "name": "stdout",
     "output_type": "stream",
     "text": [
      "No outliers:\n",
      "Time Taken =  739.4297578334808 \n",
      "Cross-Val scores [0.18677919 0.11618343 0.13136201 0.10135648 0.14492388] \n",
      " Mean = 0.13612099903813202\n"
     ]
    },
    {
     "name": "stderr",
     "output_type": "stream",
     "text": [
      "[Parallel(n_jobs=4)]: Using backend LokyBackend with 4 concurrent workers.\n"
     ]
    },
    {
     "name": "stdout",
     "output_type": "stream",
     "text": [
      "\n",
      "\n",
      "With outliers:\n",
      "Time Taken =  598.8150811195374 \n",
      "Cross-Val scores [0.13968623 0.1963882  0.20289537 0.18391555 0.18343414] \n",
      " Mean = 0.18126389792541128\n"
     ]
    },
    {
     "name": "stderr",
     "output_type": "stream",
     "text": [
      "[Parallel(n_jobs=4)]: Done   5 out of   5 | elapsed: 10.0min finished\n"
     ]
    }
   ],
   "source": [
    "svr_regg = SVR(C=0.6, max_iter=5000, cache_size=2048, verbose=True)\n",
    "model_eval_and_save(svr_regg, 'svr_rbf_C0.6_')"
   ]
  },
  {
   "cell_type": "code",
   "execution_count": null,
   "id": "681b26d4",
   "metadata": {},
   "outputs": [],
   "source": []
  },
  {
   "cell_type": "markdown",
   "id": "f45e31e3",
   "metadata": {},
   "source": [
    "## Model creation function:"
   ]
  },
  {
   "cell_type": "code",
   "execution_count": 22,
   "id": "23571154",
   "metadata": {},
   "outputs": [],
   "source": [
    "from sklearn.metrics import r2_score, mean_squared_error\n",
    "\n",
    "def grid_search_model(params, model, num=1):\n",
    "    gs = GridSearchCV(model, params, cv=5, scoring='r2', n_jobs = -1)\n",
    "    if num ==1:\n",
    "        gs.fit(X_train, y_train)\n",
    "        \n",
    "        train_pred = gs.predict(X_train)\n",
    "        mse_train = mean_squared_error(y_train, train_pred)\n",
    "        \n",
    "        pred = gs.predict(X_test)\n",
    "        mse = mean_squared_error(y_test, pred)\n",
    "        rsq = r2_score (y_test, pred)\n",
    "    else:\n",
    "        gs.fit(X_train2, y_train2)\n",
    "        \n",
    "        train_pred = gs.predict(X_train2)\n",
    "        mse_train = mean_squared_error(y_train2, train_pred)\n",
    "        \n",
    "        pred = gs.predict(X_test2)\n",
    "        mse = mean_squared_error(y_test2, pred)\n",
    "        rsq = r2_score (y_test2, pred)\n",
    "    \n",
    "    df4 = pd.DataFrame(gs.cv_results_).sort_values(by='mean_test_score', ascending=False)\n",
    "#     df4.head()\n",
    "\n",
    "    print(gs.best_params_)\n",
    "    print(\"Mse train - \", mse_train)\n",
    "    print(\"r2 = \", gs.best_score_)\n",
    "    print('\\n\\nTest score:\\nMSE = {}\\nr2 = {}'.format(mse, rsq))\n",
    "    return gs, df4"
   ]
  },
  {
   "cell_type": "code",
   "execution_count": null,
   "id": "dca8df87",
   "metadata": {},
   "outputs": [],
   "source": []
  },
  {
   "cell_type": "markdown",
   "id": "e9fb9806",
   "metadata": {},
   "source": [
    "### Decision Tree:"
   ]
  },
  {
   "cell_type": "code",
   "execution_count": 30,
   "id": "058d5cae",
   "metadata": {},
   "outputs": [
    {
     "name": "stdout",
     "output_type": "stream",
     "text": [
      "{'max_depth': 11, 'max_features': 0.9, 'min_samples_leaf': 100, 'min_samples_split': 280}\n",
      "0.5933631840345367\n",
      "Mse train -  1.337113509165814\n",
      "\n",
      "\n",
      " Test score:\n",
      "MSE = 1.4268537109619273\n",
      "r2 = 0.5953758331383692\n"
     ]
    }
   ],
   "source": [
    "params = {\n",
    "    'max_depth': np.arange(9, 12),\n",
    "    'min_samples_split': [150, 200, 280],\n",
    "    'max_features': [0.9],\n",
    "    'min_samples_leaf': [100]\n",
    "}\n",
    "\n",
    "dt = DecisionTreeRegressor(criterion='friedman_mse')\n",
    "dt_model1, df_dt_model1 = grid_search_model(params, dt)"
   ]
  },
  {
   "cell_type": "code",
   "execution_count": 33,
   "id": "846a4eeb",
   "metadata": {},
   "outputs": [
    {
     "name": "stdout",
     "output_type": "stream",
     "text": [
      "{'max_depth': 11, 'max_features': 0.9, 'min_samples_leaf': 100, 'min_samples_split': 150}\n",
      "Mse train -  1.334840888908467\n",
      "r2 =  0.5893100154923031\n",
      "\n",
      "\n",
      " Test score:\n",
      "MSE = 1.4310039546710132\n",
      "r2 = 0.5918964740101245\n"
     ]
    }
   ],
   "source": [
    "# Outliers Removed Dataset\n",
    "dt_model12, df_dt_model12 = grid_search_model(params, dt, 2)"
   ]
  },
  {
   "cell_type": "code",
   "execution_count": 25,
   "id": "0215c681",
   "metadata": {},
   "outputs": [
    {
     "name": "stdout",
     "output_type": "stream",
     "text": [
      "{'max_depth': 13, 'max_features': 0.9, 'min_samples_leaf': 100, 'min_samples_split': 150}\n",
      "Mse train -  1.2968459862649004\n",
      "r2 =  0.5945083725344185\n",
      "\n",
      "\n",
      "Test score:\n",
      "MSE = 1.4281820299959822\n",
      "r2 = 0.59215809094894\n"
     ]
    }
   ],
   "source": [
    "params = {\n",
    "    'max_depth': np.arange(12, 15),\n",
    "    'min_samples_split': [150, 200],\n",
    "    'max_features': [1, 0.9],\n",
    "    'min_samples_leaf': [50, 100]\n",
    "}\n",
    "\n",
    "dt = DecisionTreeRegressor(criterion='mse')\n",
    "dt_model2, df_dt_model2 = grid_search_model(params, dt)"
   ]
  },
  {
   "cell_type": "code",
   "execution_count": 28,
   "id": "1b51ef4e",
   "metadata": {},
   "outputs": [
    {
     "name": "stdout",
     "output_type": "stream",
     "text": [
      "{'max_depth': 14, 'max_features': 0.9, 'min_samples_leaf': 100, 'min_samples_split': 200}\n",
      "Mse train -  1.298312486865659\n",
      "r2 =  0.5912876411466558\n",
      "\n",
      "\n",
      "Test score:\n",
      "MSE = 1.43892122092642\n",
      "r2 = 0.5905166034349092\n"
     ]
    }
   ],
   "source": [
    "# Outliers Removed Dataset\n",
    "params = {\n",
    "    'max_depth': np.arange(13, 15),\n",
    "    'min_samples_split': [150, 200],\n",
    "    'max_features': [1, 0.9],\n",
    "    'min_samples_leaf': [50, 100]\n",
    "}\n",
    "\n",
    "dt = DecisionTreeRegressor(criterion='mse')\n",
    "dt_model2, df_dt_model2 = grid_search_model(params, dt, 2)"
   ]
  },
  {
   "cell_type": "code",
   "execution_count": 26,
   "id": "ddf6eeb6",
   "metadata": {},
   "outputs": [
    {
     "name": "stdout",
     "output_type": "stream",
     "text": [
      "{'max_depth': 14, 'max_features': 0.9, 'min_samples_leaf': 100, 'min_samples_split': 180}\n",
      "Mse train -  1.2904416263378717\n",
      "r2 =  0.5944908741276382\n",
      "\n",
      "\n",
      "Test score:\n",
      "MSE = 1.4334141882707552\n",
      "r2 = 0.5906639582862803\n"
     ]
    }
   ],
   "source": [
    "params = {\n",
    "    'max_depth': np.arange(13, 16),\n",
    "    'min_samples_split': [150, 180],\n",
    "    'max_features': [0.9, 0.85],\n",
    "    'min_samples_leaf': [100]\n",
    "}\n",
    "\n",
    "dt = DecisionTreeRegressor(criterion='mse')\n",
    "dt_model2, df_dt_model2 = grid_search_model(params, dt)"
   ]
  },
  {
   "cell_type": "code",
   "execution_count": 27,
   "id": "43808b69",
   "metadata": {},
   "outputs": [
    {
     "name": "stdout",
     "output_type": "stream",
     "text": [
      "{'max_depth': 13, 'max_features': 0.85, 'min_samples_leaf': 100, 'min_samples_split': 150}\n",
      "Mse train -  1.3034873755853376\n",
      "r2 =  0.5908531928052436\n",
      "\n",
      "\n",
      "Test score:\n",
      "MSE = 1.435925006398814\n",
      "r2 = 0.5913692561609646\n"
     ]
    }
   ],
   "source": [
    "# Outliers Removed Dataset\n",
    "params = {\n",
    "    'max_depth': np.arange(13, 16),\n",
    "    'min_samples_split': [150, 180],\n",
    "    'max_features': [0.9, 0.85],\n",
    "    'min_samples_leaf': [100]\n",
    "}\n",
    "\n",
    "dt = DecisionTreeRegressor(criterion='mse')\n",
    "dt_model2, df_dt_model2 = grid_search_model(params, dt, 2)"
   ]
  },
  {
   "cell_type": "code",
   "execution_count": null,
   "id": "75a9cdf8",
   "metadata": {},
   "outputs": [],
   "source": []
  },
  {
   "cell_type": "code",
   "execution_count": null,
   "id": "12c493ee",
   "metadata": {},
   "outputs": [],
   "source": []
  },
  {
   "cell_type": "markdown",
   "id": "92e603ec",
   "metadata": {},
   "source": [
    "## Random Forest:"
   ]
  },
  {
   "cell_type": "code",
   "execution_count": null,
   "id": "f9b8a0e5",
   "metadata": {},
   "outputs": [],
   "source": [
    "{'bootstrap': True, 'max_depth': 7, 'max_features': 0.9, 'max_samples': 0.9, 'min_samples_leaf': 80, 'min_samples_split': 200, 'oob_score': True, 'warm_start': False}\n",
    "Mse train -  1.4064382655802377\n",
    "r2 =  0.5938314425643212\n",
    "\n",
    "\n",
    "Test score:\n",
    "MSE = 1.4416070165563246\n",
    "r2 = 0.5911921218449644"
   ]
  },
  {
   "cell_type": "code",
   "execution_count": null,
   "id": "e4432b5d",
   "metadata": {},
   "outputs": [],
   "source": [
    "params = {\n",
    "    'n_estimators': [200],\n",
    "    'max_depth': [7, 8, 9],\n",
    "    'max_features': [0.9, 0.8],\n",
    "    'bootstrap': [True],\n",
    "    'max_samples': [0.9, 0.8],\n",
    "    'warm_start': [False],\n",
    "    'min_samples_split': [150],\n",
    "    'min_samples_leaf': [80],\n",
    "    'oob_score': [True],\n",
    "}\n",
    "rf1 = RandomForestRegressor(criterion='mse')\n",
    "rf_model1, df_rf_model1 = grid_search_model(params, rf1)"
   ]
  },
  {
   "cell_type": "code",
   "execution_count": null,
   "id": "4f4cd695",
   "metadata": {},
   "outputs": [],
   "source": [
    "df_rf_model1"
   ]
  },
  {
   "cell_type": "code",
   "execution_count": null,
   "id": "8a5b6619",
   "metadata": {},
   "outputs": [],
   "source": [
    "params = {\n",
    "    'n_estimators': [200],\n",
    "    'max_depth': [7, 8, 9],\n",
    "    'max_features': [1],\n",
    "    'bootstrap': [True],\n",
    "    'max_samples': [1],\n",
    "    'warm_start': [False],\n",
    "    'min_samples_split': [150],\n",
    "    'min_samples_leaf': [80],\n",
    "    'oob_score': [True],\n",
    "}\n",
    "rf2 = RandomForestRegressor(criterion='mse')\n",
    "rf_model2, df_rf_model2 = grid_search_model(params, rf1, 2)"
   ]
  },
  {
   "cell_type": "code",
   "execution_count": null,
   "id": "0f305405",
   "metadata": {},
   "outputs": [],
   "source": [
    "df_rf_model2.head()"
   ]
  },
  {
   "cell_type": "code",
   "execution_count": null,
   "id": "e95b95c4",
   "metadata": {},
   "outputs": [],
   "source": []
  },
  {
   "cell_type": "code",
   "execution_count": null,
   "id": "9b1386b5",
   "metadata": {},
   "outputs": [],
   "source": []
  },
  {
   "cell_type": "code",
   "execution_count": null,
   "id": "3a9c8e8c",
   "metadata": {
    "id": "3a9c8e8c"
   },
   "outputs": [],
   "source": [
    "# For changing styling:\n",
    "# from IPython.core.display import HTML\n",
    "# def css_styling():\n",
    "#     styles = open(\"styles/custom.css\", \"r\").read()\n",
    "#     return HTML(styles)\n",
    "# css_styling()"
   ]
  },
  {
   "cell_type": "code",
   "execution_count": null,
   "id": "3acd23a2",
   "metadata": {
    "id": "3acd23a2"
   },
   "outputs": [],
   "source": []
  }
 ],
 "metadata": {
  "accelerator": "GPU",
  "colab": {
   "collapsed_sections": [],
   "name": "03-Training_model_to_predict_Weight.ipynb",
   "provenance": []
  },
  "kernelspec": {
   "display_name": "Python 3 (ipykernel)",
   "language": "python",
   "name": "python3"
  },
  "language_info": {
   "codemirror_mode": {
    "name": "ipython",
    "version": 3
   },
   "file_extension": ".py",
   "mimetype": "text/x-python",
   "name": "python",
   "nbconvert_exporter": "python",
   "pygments_lexer": "ipython3",
   "version": "3.7.10"
  }
 },
 "nbformat": 4,
 "nbformat_minor": 5
}
