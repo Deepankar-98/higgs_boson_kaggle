{
 "cells": [
  {
   "cell_type": "code",
   "execution_count": 1,
   "id": "4e8d67f2",
   "metadata": {},
   "outputs": [],
   "source": [
    "import pickle\n",
    "import numpy as np\n",
    "import pandas as pd\n",
    "import matplotlib.pyplot as plt\n",
    "import seaborn as sns"
   ]
  },
  {
   "cell_type": "code",
   "execution_count": 2,
   "id": "b3c1bb68",
   "metadata": {},
   "outputs": [],
   "source": [
    "# For local\n",
    "df1 = pd.read_csv('../data/interim/train_MICE_median_ind_QuantileTransformer.csv')\n",
    "df2 = pd.read_csv('../data/interim/train_MICE_med_ind_QT_dropOutlier.csv')\n",
    "\n",
    "# df_test = pd.read_csv('../data/processed/test_weight_regg.csv', index_col='EventId')  # Test data"
   ]
  },
  {
   "cell_type": "code",
   "execution_count": 92,
   "id": "212e89a9",
   "metadata": {},
   "outputs": [
    {
     "data": {
      "text/html": [
       "<div>\n",
       "<style scoped>\n",
       "    .dataframe tbody tr th:only-of-type {\n",
       "        vertical-align: middle;\n",
       "    }\n",
       "\n",
       "    .dataframe tbody tr th {\n",
       "        vertical-align: top;\n",
       "    }\n",
       "\n",
       "    .dataframe thead th {\n",
       "        text-align: right;\n",
       "    }\n",
       "</style>\n",
       "<table border=\"1\" class=\"dataframe\">\n",
       "  <thead>\n",
       "    <tr style=\"text-align: right;\">\n",
       "      <th></th>\n",
       "      <th>DER_mass_transverse_met_lep</th>\n",
       "      <th>DER_mass_vis</th>\n",
       "      <th>DER_pt_h</th>\n",
       "      <th>DER_deltaeta_jet_jet</th>\n",
       "      <th>DER_mass_jet_jet</th>\n",
       "      <th>DER_prodeta_jet_jet</th>\n",
       "      <th>DER_deltar_tau_lep</th>\n",
       "      <th>DER_pt_tot</th>\n",
       "      <th>DER_pt_ratio_lep_tau</th>\n",
       "      <th>DER_met_phi_centrality</th>\n",
       "      <th>...</th>\n",
       "      <th>PRI_jet_leading_phi</th>\n",
       "      <th>PRI_jet_subleading_pt</th>\n",
       "      <th>PRI_jet_subleading_eta</th>\n",
       "      <th>PRI_jet_subleading_phi</th>\n",
       "      <th>PRI_jet_all_pt</th>\n",
       "      <th>ind_15</th>\n",
       "      <th>ind_40</th>\n",
       "      <th>ind_70</th>\n",
       "      <th>Weight</th>\n",
       "      <th>Label</th>\n",
       "    </tr>\n",
       "  </thead>\n",
       "  <tbody>\n",
       "    <tr>\n",
       "      <th>0</th>\n",
       "      <td>0.105712</td>\n",
       "      <td>0.846853</td>\n",
       "      <td>-0.281832</td>\n",
       "      <td>-1.440634</td>\n",
       "      <td>-1.392330</td>\n",
       "      <td>1.819752</td>\n",
       "      <td>0.893908</td>\n",
       "      <td>1.227406</td>\n",
       "      <td>0.437620</td>\n",
       "      <td>1.236652</td>\n",
       "      <td>...</td>\n",
       "      <td>0.395113</td>\n",
       "      <td>0.850104</td>\n",
       "      <td>1.298783</td>\n",
       "      <td>-1.864348</td>\n",
       "      <td>0.705481</td>\n",
       "      <td>False</td>\n",
       "      <td>False</td>\n",
       "      <td>False</td>\n",
       "      <td>0.002653</td>\n",
       "      <td>1</td>\n",
       "    </tr>\n",
       "    <tr>\n",
       "      <th>1</th>\n",
       "      <td>0.523305</td>\n",
       "      <td>0.993621</td>\n",
       "      <td>0.206519</td>\n",
       "      <td>0.437861</td>\n",
       "      <td>0.180620</td>\n",
       "      <td>-0.579631</td>\n",
       "      <td>1.675206</td>\n",
       "      <td>-0.892661</td>\n",
       "      <td>-0.680013</td>\n",
       "      <td>5.199338</td>\n",
       "      <td>...</td>\n",
       "      <td>0.865277</td>\n",
       "      <td>0.557937</td>\n",
       "      <td>0.447191</td>\n",
       "      <td>0.752929</td>\n",
       "      <td>0.096192</td>\n",
       "      <td>False</td>\n",
       "      <td>False</td>\n",
       "      <td>True</td>\n",
       "      <td>2.233584</td>\n",
       "      <td>0</td>\n",
       "    </tr>\n",
       "    <tr>\n",
       "      <th>2</th>\n",
       "      <td>2.486980</td>\n",
       "      <td>1.404950</td>\n",
       "      <td>-0.065154</td>\n",
       "      <td>-0.671441</td>\n",
       "      <td>-0.682643</td>\n",
       "      <td>0.564616</td>\n",
       "      <td>1.137677</td>\n",
       "      <td>-0.069578</td>\n",
       "      <td>2.069243</td>\n",
       "      <td>5.199338</td>\n",
       "      <td>...</td>\n",
       "      <td>-1.246608</td>\n",
       "      <td>0.567757</td>\n",
       "      <td>-1.198176</td>\n",
       "      <td>1.155143</td>\n",
       "      <td>0.067556</td>\n",
       "      <td>True</td>\n",
       "      <td>False</td>\n",
       "      <td>True</td>\n",
       "      <td>2.347389</td>\n",
       "      <td>0</td>\n",
       "    </tr>\n",
       "    <tr>\n",
       "      <th>3</th>\n",
       "      <td>0.933682</td>\n",
       "      <td>0.289815</td>\n",
       "      <td>-2.269115</td>\n",
       "      <td>0.445044</td>\n",
       "      <td>0.435037</td>\n",
       "      <td>-0.327320</td>\n",
       "      <td>1.457621</td>\n",
       "      <td>-2.031581</td>\n",
       "      <td>1.245323</td>\n",
       "      <td>-0.374936</td>\n",
       "      <td>...</td>\n",
       "      <td>0.692627</td>\n",
       "      <td>0.317645</td>\n",
       "      <td>-0.443773</td>\n",
       "      <td>0.919892</td>\n",
       "      <td>-5.199338</td>\n",
       "      <td>False</td>\n",
       "      <td>True</td>\n",
       "      <td>True</td>\n",
       "      <td>5.446378</td>\n",
       "      <td>0</td>\n",
       "    </tr>\n",
       "    <tr>\n",
       "      <th>4</th>\n",
       "      <td>-0.758808</td>\n",
       "      <td>1.501841</td>\n",
       "      <td>-0.637574</td>\n",
       "      <td>1.043956</td>\n",
       "      <td>0.860625</td>\n",
       "      <td>-0.915816</td>\n",
       "      <td>2.094339</td>\n",
       "      <td>0.079973</td>\n",
       "      <td>-0.373591</td>\n",
       "      <td>-0.791884</td>\n",
       "      <td>...</td>\n",
       "      <td>0.207315</td>\n",
       "      <td>-0.592731</td>\n",
       "      <td>-0.253991</td>\n",
       "      <td>0.287972</td>\n",
       "      <td>-5.199338</td>\n",
       "      <td>False</td>\n",
       "      <td>True</td>\n",
       "      <td>True</td>\n",
       "      <td>6.245333</td>\n",
       "      <td>0</td>\n",
       "    </tr>\n",
       "    <tr>\n",
       "      <th>5</th>\n",
       "      <td>-0.893701</td>\n",
       "      <td>-0.687423</td>\n",
       "      <td>1.093261</td>\n",
       "      <td>-0.789254</td>\n",
       "      <td>-0.895246</td>\n",
       "      <td>0.946401</td>\n",
       "      <td>-1.141039</td>\n",
       "      <td>1.753710</td>\n",
       "      <td>-1.324958</td>\n",
       "      <td>0.228635</td>\n",
       "      <td>...</td>\n",
       "      <td>-0.537322</td>\n",
       "      <td>1.233450</td>\n",
       "      <td>0.377630</td>\n",
       "      <td>2.959638</td>\n",
       "      <td>1.261744</td>\n",
       "      <td>False</td>\n",
       "      <td>False</td>\n",
       "      <td>False</td>\n",
       "      <td>0.083414</td>\n",
       "      <td>0</td>\n",
       "    </tr>\n",
       "    <tr>\n",
       "      <th>6</th>\n",
       "      <td>-0.399469</td>\n",
       "      <td>1.104267</td>\n",
       "      <td>0.989902</td>\n",
       "      <td>-1.547310</td>\n",
       "      <td>-1.243363</td>\n",
       "      <td>1.198775</td>\n",
       "      <td>0.625670</td>\n",
       "      <td>-0.748265</td>\n",
       "      <td>1.896122</td>\n",
       "      <td>1.202347</td>\n",
       "      <td>...</td>\n",
       "      <td>0.991063</td>\n",
       "      <td>1.251839</td>\n",
       "      <td>0.240924</td>\n",
       "      <td>-2.110197</td>\n",
       "      <td>1.174802</td>\n",
       "      <td>False</td>\n",
       "      <td>False</td>\n",
       "      <td>False</td>\n",
       "      <td>0.002653</td>\n",
       "      <td>1</td>\n",
       "    </tr>\n",
       "    <tr>\n",
       "      <th>7</th>\n",
       "      <td>-1.050635</td>\n",
       "      <td>0.753561</td>\n",
       "      <td>-0.243181</td>\n",
       "      <td>0.040330</td>\n",
       "      <td>-0.285650</td>\n",
       "      <td>-0.086324</td>\n",
       "      <td>0.549616</td>\n",
       "      <td>-1.118972</td>\n",
       "      <td>-2.092023</td>\n",
       "      <td>-0.411534</td>\n",
       "      <td>...</td>\n",
       "      <td>-1.102143</td>\n",
       "      <td>0.172323</td>\n",
       "      <td>0.801577</td>\n",
       "      <td>1.048573</td>\n",
       "      <td>-0.223017</td>\n",
       "      <td>False</td>\n",
       "      <td>False</td>\n",
       "      <td>True</td>\n",
       "      <td>0.018636</td>\n",
       "      <td>1</td>\n",
       "    </tr>\n",
       "    <tr>\n",
       "      <th>8</th>\n",
       "      <td>0.083098</td>\n",
       "      <td>0.934714</td>\n",
       "      <td>-0.967601</td>\n",
       "      <td>0.467802</td>\n",
       "      <td>0.303152</td>\n",
       "      <td>-0.326681</td>\n",
       "      <td>0.561327</td>\n",
       "      <td>-0.408805</td>\n",
       "      <td>-1.109378</td>\n",
       "      <td>-0.641002</td>\n",
       "      <td>...</td>\n",
       "      <td>-0.010620</td>\n",
       "      <td>-0.277929</td>\n",
       "      <td>0.528853</td>\n",
       "      <td>0.017075</td>\n",
       "      <td>-5.199338</td>\n",
       "      <td>False</td>\n",
       "      <td>True</td>\n",
       "      <td>True</td>\n",
       "      <td>5.296003</td>\n",
       "      <td>0</td>\n",
       "    </tr>\n",
       "  </tbody>\n",
       "</table>\n",
       "<p>9 rows × 33 columns</p>\n",
       "</div>"
      ],
      "text/plain": [
       "   DER_mass_transverse_met_lep  DER_mass_vis  DER_pt_h  DER_deltaeta_jet_jet  \\\n",
       "0                     0.105712      0.846853 -0.281832             -1.440634   \n",
       "1                     0.523305      0.993621  0.206519              0.437861   \n",
       "2                     2.486980      1.404950 -0.065154             -0.671441   \n",
       "3                     0.933682      0.289815 -2.269115              0.445044   \n",
       "4                    -0.758808      1.501841 -0.637574              1.043956   \n",
       "5                    -0.893701     -0.687423  1.093261             -0.789254   \n",
       "6                    -0.399469      1.104267  0.989902             -1.547310   \n",
       "7                    -1.050635      0.753561 -0.243181              0.040330   \n",
       "8                     0.083098      0.934714 -0.967601              0.467802   \n",
       "\n",
       "   DER_mass_jet_jet  DER_prodeta_jet_jet  DER_deltar_tau_lep  DER_pt_tot  \\\n",
       "0         -1.392330             1.819752            0.893908    1.227406   \n",
       "1          0.180620            -0.579631            1.675206   -0.892661   \n",
       "2         -0.682643             0.564616            1.137677   -0.069578   \n",
       "3          0.435037            -0.327320            1.457621   -2.031581   \n",
       "4          0.860625            -0.915816            2.094339    0.079973   \n",
       "5         -0.895246             0.946401           -1.141039    1.753710   \n",
       "6         -1.243363             1.198775            0.625670   -0.748265   \n",
       "7         -0.285650            -0.086324            0.549616   -1.118972   \n",
       "8          0.303152            -0.326681            0.561327   -0.408805   \n",
       "\n",
       "   DER_pt_ratio_lep_tau  DER_met_phi_centrality  ...  PRI_jet_leading_phi  \\\n",
       "0              0.437620                1.236652  ...             0.395113   \n",
       "1             -0.680013                5.199338  ...             0.865277   \n",
       "2              2.069243                5.199338  ...            -1.246608   \n",
       "3              1.245323               -0.374936  ...             0.692627   \n",
       "4             -0.373591               -0.791884  ...             0.207315   \n",
       "5             -1.324958                0.228635  ...            -0.537322   \n",
       "6              1.896122                1.202347  ...             0.991063   \n",
       "7             -2.092023               -0.411534  ...            -1.102143   \n",
       "8             -1.109378               -0.641002  ...            -0.010620   \n",
       "\n",
       "   PRI_jet_subleading_pt  PRI_jet_subleading_eta  PRI_jet_subleading_phi  \\\n",
       "0               0.850104                1.298783               -1.864348   \n",
       "1               0.557937                0.447191                0.752929   \n",
       "2               0.567757               -1.198176                1.155143   \n",
       "3               0.317645               -0.443773                0.919892   \n",
       "4              -0.592731               -0.253991                0.287972   \n",
       "5               1.233450                0.377630                2.959638   \n",
       "6               1.251839                0.240924               -2.110197   \n",
       "7               0.172323                0.801577                1.048573   \n",
       "8              -0.277929                0.528853                0.017075   \n",
       "\n",
       "   PRI_jet_all_pt  ind_15  ind_40  ind_70    Weight  Label  \n",
       "0        0.705481   False   False   False  0.002653      1  \n",
       "1        0.096192   False   False    True  2.233584      0  \n",
       "2        0.067556    True   False    True  2.347389      0  \n",
       "3       -5.199338   False    True    True  5.446378      0  \n",
       "4       -5.199338   False    True    True  6.245333      0  \n",
       "5        1.261744   False   False   False  0.083414      0  \n",
       "6        1.174802   False   False   False  0.002653      1  \n",
       "7       -0.223017   False   False    True  0.018636      1  \n",
       "8       -5.199338   False    True    True  5.296003      0  \n",
       "\n",
       "[9 rows x 33 columns]"
      ]
     },
     "execution_count": 92,
     "metadata": {},
     "output_type": "execute_result"
    }
   ],
   "source": [
    "df1.head(9)"
   ]
  },
  {
   "cell_type": "markdown",
   "id": "67ae3839",
   "metadata": {},
   "source": [
    "Note: Here the categorical Label column is already converted to 0, 1"
   ]
  },
  {
   "cell_type": "code",
   "execution_count": 28,
   "id": "17c2a193",
   "metadata": {},
   "outputs": [
    {
     "data": {
      "text/plain": [
       "<AxesSubplot:xlabel='Weight', ylabel='Count'>"
      ]
     },
     "execution_count": 28,
     "metadata": {},
     "output_type": "execute_result"
    },
    {
     "data": {
      "image/png": "[encoded data removed]",
      "text/plain": [
       "<Figure size 432x288 with 1 Axes>"
      ]
     },
     "metadata": {
      "needs_background": "light"
     },
     "output_type": "display_data"
    }
   ],
   "source": [
    "sns.histplot(x='Weight', hue='Label', data=df1)"
   ]
  },
  {
   "cell_type": "code",
   "execution_count": 27,
   "id": "cddb3893",
   "metadata": {},
   "outputs": [
    {
     "data": {
      "text/plain": [
       "<AxesSubplot:xlabel='Weight', ylabel='Probability'>"
      ]
     },
     "execution_count": 27,
     "metadata": {},
     "output_type": "execute_result"
    },
    {
     "data": {
      "image/png": "[encoded data removed]",
      "text/plain": [
       "<Figure size 432x288 with 1 Axes>"
      ]
     },
     "metadata": {
      "needs_background": "light"
     },
     "output_type": "display_data"
    }
   ],
   "source": [
    "sns.histplot(x='Weight', hue='Label', data=df2, stat='probability')"
   ]
  },
  {
   "cell_type": "code",
   "execution_count": 22,
   "id": "56f79469",
   "metadata": {},
   "outputs": [
    {
     "data": {
      "text/plain": [
       "<AxesSubplot:>"
      ]
     },
     "execution_count": 22,
     "metadata": {},
     "output_type": "execute_result"
    },
    {
     "data": {
      "image/png": "[encoded data removed]",
      "text/plain": [
       "<Figure size 1440x1800 with 1 Axes>"
      ]
     },
     "metadata": {
      "needs_background": "light"
     },
     "output_type": "display_data"
    }
   ],
   "source": [
    "plt.figure(figsize=(20, 25))\n",
    "plt.xticks(rotation='vertical')\n",
    "\n",
    "sns.boxplot(data=df1, whis=3)"
   ]
  },
  {
   "cell_type": "code",
   "execution_count": 21,
   "id": "9a07e194",
   "metadata": {},
   "outputs": [
    {
     "data": {
      "text/plain": [
       "<AxesSubplot:>"
      ]
     },
     "execution_count": 21,
     "metadata": {},
     "output_type": "execute_result"
    },
    {
     "data": {
      "image/png": "[encoded data removed]",
      "text/plain": [
       "<Figure size 1440x1800 with 1 Axes>"
      ]
     },
     "metadata": {
      "needs_background": "light"
     },
     "output_type": "display_data"
    }
   ],
   "source": [
    "plt.figure(figsize=(20, 25))\n",
    "plt.xticks(rotation='vertical')\n",
    "\n",
    "\n",
    "sns.boxplot(data=df2, whis=3)   # The whiskers are at Q1-3*IQR and Q3+3*IQR"
   ]
  },
  {
   "cell_type": "code",
   "execution_count": null,
   "id": "78ce0206",
   "metadata": {},
   "outputs": [],
   "source": []
  },
  {
   "cell_type": "code",
   "execution_count": 38,
   "id": "3220c1c4",
   "metadata": {},
   "outputs": [],
   "source": [
    "from sklearn.model_selection import train_test_split"
   ]
  },
  {
   "cell_type": "code",
   "execution_count": 44,
   "id": "c1e8e6a2",
   "metadata": {},
   "outputs": [],
   "source": [
    "X_train1, X_test1, y_train1, y_test1 = train_test_split(df1.drop(columns=\"Label\"), df1['Label'], test_size=25000)\n",
    "X_train2, X_test2, y_train2, y_test2 = train_test_split(df2.drop(columns=\"Label\"), df2['Label'], test_size=25000)"
   ]
  },
  {
   "cell_type": "code",
   "execution_count": null,
   "id": "f2e01012",
   "metadata": {},
   "outputs": [],
   "source": []
  },
  {
   "cell_type": "markdown",
   "id": "3985e546",
   "metadata": {},
   "source": [
    "## Creating Models:"
   ]
  },
  {
   "cell_type": "code",
   "execution_count": 79,
   "id": "5ee9f57c",
   "metadata": {},
   "outputs": [],
   "source": [
    "from sklearn.tree import DecisionTreeClassifier\n",
    "from sklearn.metrics import confusion_matrix, accuracy_score, fbeta_score, f1_score"
   ]
  },
  {
   "cell_type": "code",
   "execution_count": 80,
   "id": "1ee7542b",
   "metadata": {},
   "outputs": [
    {
     "data": {
      "text/plain": [
       "DecisionTreeClassifier(max_depth=11, min_samples_leaf=30, min_samples_split=60)"
      ]
     },
     "execution_count": 80,
     "metadata": {},
     "output_type": "execute_result"
    }
   ],
   "source": [
    "decTree = DecisionTreeClassifier(max_depth=11, min_samples_split=60, min_samples_leaf=30)\n",
    "decTree.fit(X_train1, y_train1)"
   ]
  },
  {
   "cell_type": "code",
   "execution_count": 81,
   "id": "68e53ac4",
   "metadata": {},
   "outputs": [
    {
     "data": {
      "text/plain": [
       "array([[147989,      0],\n",
       "       [     0,  77011]], dtype=int64)"
      ]
     },
     "execution_count": 81,
     "metadata": {},
     "output_type": "execute_result"
    }
   ],
   "source": [
    "pred = decTree.predict(X_train1)\n",
    "confusion_matrix(y_train1, pred)"
   ]
  },
  {
   "cell_type": "code",
   "execution_count": 82,
   "id": "2b8e4bc9",
   "metadata": {},
   "outputs": [
    {
     "data": {
      "text/plain": [
       "1.0"
      ]
     },
     "execution_count": 82,
     "metadata": {},
     "output_type": "execute_result"
    }
   ],
   "source": [
    "f1_score(y_train1, pred)"
   ]
  },
  {
   "cell_type": "code",
   "execution_count": 83,
   "id": "6b2e5c27",
   "metadata": {},
   "outputs": [
    {
     "data": {
      "text/plain": [
       "array([[16344,     0],\n",
       "       [    0,  8656]], dtype=int64)"
      ]
     },
     "execution_count": 83,
     "metadata": {},
     "output_type": "execute_result"
    }
   ],
   "source": [
    "pred_test = decTree.predict(X_test1)\n",
    "confusion_matrix(y_test1, pred_test)"
   ]
  },
  {
   "cell_type": "code",
   "execution_count": null,
   "id": "6c6505fa",
   "metadata": {},
   "outputs": [],
   "source": []
  },
  {
   "cell_type": "code",
   "execution_count": null,
   "id": "41468c83",
   "metadata": {},
   "outputs": [],
   "source": []
  },
  {
   "cell_type": "code",
   "execution_count": null,
   "id": "f39852d2",
   "metadata": {},
   "outputs": [],
   "source": []
  },
  {
   "cell_type": "code",
   "execution_count": 99,
   "id": "46e9e99e",
   "metadata": {},
   "outputs": [],
   "source": [
    "df_test = pd.read_csv('../data/processed/test_weight_regg.csv', index_col='EventId')  # Test data"
   ]
  },
  {
   "cell_type": "code",
   "execution_count": 100,
   "id": "33e57158",
   "metadata": {},
   "outputs": [],
   "source": [
    "test_labels = decTree.predict(df_test)"
   ]
  },
  {
   "cell_type": "code",
   "execution_count": 101,
   "id": "bab89617",
   "metadata": {},
   "outputs": [],
   "source": [
    "df_test['Class'] = test_labels"
   ]
  },
  {
   "cell_type": "code",
   "execution_count": 102,
   "id": "f442b702",
   "metadata": {},
   "outputs": [
    {
     "name": "stdout",
     "output_type": "stream",
     "text": [
      "RangeIndex(start=0, stop=250000, step=1)\n"
     ]
    }
   ],
   "source": [
    "print(df1.index)"
   ]
  },
  {
   "cell_type": "code",
   "execution_count": 104,
   "id": "7bd7709c",
   "metadata": {},
   "outputs": [],
   "source": [
    "df_test['Class'] = df_test['Class'].map({0: \"b\", 1: \"s\"})"
   ]
  },
  {
   "cell_type": "code",
   "execution_count": 106,
   "id": "d50152fb",
   "metadata": {},
   "outputs": [
    {
     "data": {
      "text/html": [
       "<div>\n",
       "<style scoped>\n",
       "    .dataframe tbody tr th:only-of-type {\n",
       "        vertical-align: middle;\n",
       "    }\n",
       "\n",
       "    .dataframe tbody tr th {\n",
       "        vertical-align: top;\n",
       "    }\n",
       "\n",
       "    .dataframe thead th {\n",
       "        text-align: right;\n",
       "    }\n",
       "</style>\n",
       "<table border=\"1\" class=\"dataframe\">\n",
       "  <thead>\n",
       "    <tr style=\"text-align: right;\">\n",
       "      <th></th>\n",
       "      <th>Class</th>\n",
       "    </tr>\n",
       "    <tr>\n",
       "      <th>EventId</th>\n",
       "      <th></th>\n",
       "    </tr>\n",
       "  </thead>\n",
       "  <tbody>\n",
       "    <tr>\n",
       "      <th>350000</th>\n",
       "      <td>b</td>\n",
       "    </tr>\n",
       "    <tr>\n",
       "      <th>350001</th>\n",
       "      <td>b</td>\n",
       "    </tr>\n",
       "    <tr>\n",
       "      <th>350002</th>\n",
       "      <td>b</td>\n",
       "    </tr>\n",
       "    <tr>\n",
       "      <th>350003</th>\n",
       "      <td>b</td>\n",
       "    </tr>\n",
       "    <tr>\n",
       "      <th>350004</th>\n",
       "      <td>b</td>\n",
       "    </tr>\n",
       "  </tbody>\n",
       "</table>\n",
       "</div>"
      ],
      "text/plain": [
       "        Class\n",
       "EventId      \n",
       "350000      b\n",
       "350001      b\n",
       "350002      b\n",
       "350003      b\n",
       "350004      b"
      ]
     },
     "execution_count": 106,
     "metadata": {},
     "output_type": "execute_result"
    }
   ],
   "source": [
    "df_test[['Class']].head()"
   ]
  },
  {
   "cell_type": "code",
   "execution_count": 107,
   "id": "e2f2c3bd",
   "metadata": {},
   "outputs": [],
   "source": [
    "df_test[['Class']].to_csv('../data/processed/final_submission.csv')"
   ]
  },
  {
   "cell_type": "code",
   "execution_count": null,
   "id": "a67abd45",
   "metadata": {},
   "outputs": [],
   "source": []
  }
 ],
 "metadata": {
  "kernelspec": {
   "display_name": "Python 3 (ipykernel)",
   "language": "python",
   "name": "python3"
  },
  "language_info": {
   "codemirror_mode": {
    "name": "ipython",
    "version": 3
   },
   "file_extension": ".py",
   "mimetype": "text/x-python",
   "name": "python",
   "nbconvert_exporter": "python",
   "pygments_lexer": "ipython3",
   "version": "3.7.10"
  }
 },
 "nbformat": 4,
 "nbformat_minor": 5
}
