{
 "cells": [
  {
   "cell_type": "code",
   "execution_count": 1,
   "id": "cff62057",
   "metadata": {
    "executionInfo": {
     "elapsed": 12,
     "status": "ok",
     "timestamp": 1627804125101,
     "user": {
      "displayName": "Deepankar Mullick",
      "photoUrl": "https://lh3.googleusercontent.com/a-/AOh14Ggmz-Nr-0TEMVo13LngNEVm6AGK4c57E-3nMbfK=s64",
      "userId": "02437168663279872146"
     },
     "user_tz": -330
    },
    "id": "cff62057"
   },
   "outputs": [],
   "source": [
    "import numpy as np\n",
    "import pandas as pd\n",
    "import matplotlib.pyplot as plt\n",
    "import seaborn as sns\n",
    "import time\n",
    "import os\n",
    "import pickle\n",
    "\n",
    "%matplotlib inline"
   ]
  },
  {
   "cell_type": "code",
   "execution_count": 2,
   "id": "uwQqhFtxUJtQ",
   "metadata": {
    "colab": {
     "base_uri": "https://localhost:8080/",
     "height": 35
    },
    "executionInfo": {
     "elapsed": 8643,
     "status": "ok",
     "timestamp": 1627804133736,
     "user": {
      "displayName": "Deepankar Mullick",
      "photoUrl": "https://lh3.googleusercontent.com/a-/AOh14Ggmz-Nr-0TEMVo13LngNEVm6AGK4c57E-3nMbfK=s64",
      "userId": "02437168663279872146"
     },
     "user_tz": -330
    },
    "id": "uwQqhFtxUJtQ",
    "outputId": "f579571d-3022-4d15-b89c-9888947d6ac7"
   },
   "outputs": [],
   "source": [
    "# import tensorflow as tf\n",
    "# tf.test.gpu_device_name()"
   ]
  },
  {
   "cell_type": "code",
   "execution_count": 3,
   "id": "iEaqcdMVUULf",
   "metadata": {
    "colab": {
     "base_uri": "https://localhost:8080/"
    },
    "executionInfo": {
     "elapsed": 112,
     "status": "ok",
     "timestamp": 1627804133739,
     "user": {
      "displayName": "Deepankar Mullick",
      "photoUrl": "https://lh3.googleusercontent.com/a-/AOh14Ggmz-Nr-0TEMVo13LngNEVm6AGK4c57E-3nMbfK=s64",
      "userId": "02437168663279872146"
     },
     "user_tz": -330
    },
    "id": "iEaqcdMVUULf",
    "outputId": "6120a4d1-fd14-4da5-9db3-c081d2206319"
   },
   "outputs": [],
   "source": [
    "# from tensorflow.python.client import device_lib\n",
    "# device_lib.list_local_devices()"
   ]
  },
  {
   "cell_type": "code",
   "execution_count": 4,
   "id": "m2KrFdeKTxXe",
   "metadata": {
    "colab": {
     "base_uri": "https://localhost:8080/"
    },
    "executionInfo": {
     "elapsed": 108,
     "status": "ok",
     "timestamp": 1627804133743,
     "user": {
      "displayName": "Deepankar Mullick",
      "photoUrl": "https://lh3.googleusercontent.com/a-/AOh14Ggmz-Nr-0TEMVo13LngNEVm6AGK4c57E-3nMbfK=s64",
      "userId": "02437168663279872146"
     },
     "user_tz": -330
    },
    "id": "m2KrFdeKTxXe",
    "outputId": "8b2a785a-f2a0-46b9-c454-1fdc145b597d"
   },
   "outputs": [],
   "source": [
    "# !nvidia-smi"
   ]
  },
  {
   "cell_type": "code",
   "execution_count": 5,
   "id": "66836e92",
   "metadata": {
    "executionInfo": {
     "elapsed": 98,
     "status": "ok",
     "timestamp": 1627804133745,
     "user": {
      "displayName": "Deepankar Mullick",
      "photoUrl": "https://lh3.googleusercontent.com/a-/AOh14Ggmz-Nr-0TEMVo13LngNEVm6AGK4c57E-3nMbfK=s64",
      "userId": "02437168663279872146"
     },
     "user_tz": -330
    },
    "id": "66836e92"
   },
   "outputs": [],
   "source": [
    "# To display all columns:\n",
    "pd.pandas.set_option('display.max_columns', None)"
   ]
  },
  {
   "cell_type": "code",
   "execution_count": 6,
   "id": "CR-p7z4546kn",
   "metadata": {
    "colab": {
     "base_uri": "https://localhost:8080/"
    },
    "executionInfo": {
     "elapsed": 71081,
     "status": "ok",
     "timestamp": 1627804204730,
     "user": {
      "displayName": "Deepankar Mullick",
      "photoUrl": "https://lh3.googleusercontent.com/a-/AOh14Ggmz-Nr-0TEMVo13LngNEVm6AGK4c57E-3nMbfK=s64",
      "userId": "02437168663279872146"
     },
     "user_tz": -330
    },
    "id": "CR-p7z4546kn",
    "outputId": "04811885-3040-4403-e832-0b16e708e6bc"
   },
   "outputs": [],
   "source": [
    "# from google.colab import drive\n",
    "# drive.mount('/content/drive')"
   ]
  },
  {
   "cell_type": "code",
   "execution_count": 7,
   "id": "BZ18vZgJ4JME",
   "metadata": {
    "executionInfo": {
     "elapsed": 31,
     "status": "ok",
     "timestamp": 1627804204736,
     "user": {
      "displayName": "Deepankar Mullick",
      "photoUrl": "https://lh3.googleusercontent.com/a-/AOh14Ggmz-Nr-0TEMVo13LngNEVm6AGK4c57E-3nMbfK=s64",
      "userId": "02437168663279872146"
     },
     "user_tz": -330
    },
    "id": "BZ18vZgJ4JME"
   },
   "outputs": [],
   "source": [
    "# os.chdir(r'/content/drive/MyDrive/higgs boson/')"
   ]
  },
  {
   "cell_type": "code",
   "execution_count": null,
   "id": "zs-TdQazVIY_",
   "metadata": {
    "executionInfo": {
     "elapsed": 34,
     "status": "ok",
     "timestamp": 1627804204742,
     "user": {
      "displayName": "Deepankar Mullick",
      "photoUrl": "https://lh3.googleusercontent.com/a-/AOh14Ggmz-Nr-0TEMVo13LngNEVm6AGK4c57E-3nMbfK=s64",
      "userId": "02437168663279872146"
     },
     "user_tz": -330
    },
    "id": "zs-TdQazVIY_"
   },
   "outputs": [],
   "source": []
  },
  {
   "cell_type": "markdown",
   "id": "ac5b135c",
   "metadata": {
    "id": "ac5b135c"
   },
   "source": [
    "## Loding Data:"
   ]
  },
  {
   "cell_type": "code",
   "execution_count": 8,
   "id": "9155b8b1",
   "metadata": {
    "executionInfo": {
     "elapsed": 9898,
     "status": "ok",
     "timestamp": 1627804214609,
     "user": {
      "displayName": "Deepankar Mullick",
      "photoUrl": "https://lh3.googleusercontent.com/a-/AOh14Ggmz-Nr-0TEMVo13LngNEVm6AGK4c57E-3nMbfK=s64",
      "userId": "02437168663279872146"
     },
     "user_tz": -330
    },
    "id": "9155b8b1"
   },
   "outputs": [],
   "source": [
    "# For colab\n",
    "# df1 = pd.read_csv('train_MICE_median_ind_QuantileTransformer.csv')\n",
    "# df2 = pd.read_csv('train_MICE_med_ind_QT_dropOutlier.csv')\n",
    "\n",
    "df1 = pd.read_csv('../data/interim/train_MICE_median_ind_QuantileTransformer.csv')\n",
    "df2 = pd.read_csv('../data/interim/train_MICE_med_ind_QT_dropOutlier.csv')"
   ]
  },
  {
   "cell_type": "code",
   "execution_count": 9,
   "id": "2488d1c1",
   "metadata": {
    "executionInfo": {
     "elapsed": 24,
     "status": "ok",
     "timestamp": 1627804214611,
     "user": {
      "displayName": "Deepankar Mullick",
      "photoUrl": "https://lh3.googleusercontent.com/a-/AOh14Ggmz-Nr-0TEMVo13LngNEVm6AGK4c57E-3nMbfK=s64",
      "userId": "02437168663279872146"
     },
     "user_tz": -330
    },
    "id": "2488d1c1"
   },
   "outputs": [],
   "source": [
    "X, y = df1.drop(columns=['Weight', 'Label']), df1['Weight']\n",
    "X2, y2 = df2.drop(columns=['Weight', 'Label']), df2['Weight']"
   ]
  },
  {
   "cell_type": "code",
   "execution_count": 10,
   "id": "c7a5cb57",
   "metadata": {
    "colab": {
     "base_uri": "https://localhost:8080/"
    },
    "executionInfo": {
     "elapsed": 24,
     "status": "ok",
     "timestamp": 1627804214613,
     "user": {
      "displayName": "Deepankar Mullick",
      "photoUrl": "https://lh3.googleusercontent.com/a-/AOh14Ggmz-Nr-0TEMVo13LngNEVm6AGK4c57E-3nMbfK=s64",
      "userId": "02437168663279872146"
     },
     "user_tz": -330
    },
    "id": "c7a5cb57",
    "outputId": "550f923f-7592-439d-e8bd-e173a424c523"
   },
   "outputs": [
    {
     "name": "stdout",
     "output_type": "stream",
     "text": [
      "(250000, 33)\n",
      "(236794, 33)\n"
     ]
    }
   ],
   "source": [
    "print(df1.shape, df2.shape, sep='\\n')"
   ]
  },
  {
   "cell_type": "code",
   "execution_count": null,
   "id": "c3d9cf02",
   "metadata": {},
   "outputs": [],
   "source": []
  },
  {
   "cell_type": "markdown",
   "id": "19cd7475",
   "metadata": {
    "id": "19cd7475"
   },
   "source": [
    "## Train-test split:"
   ]
  },
  {
   "cell_type": "code",
   "execution_count": 11,
   "id": "e9295d1b",
   "metadata": {
    "executionInfo": {
     "elapsed": 613,
     "status": "ok",
     "timestamp": 1627804347715,
     "user": {
      "displayName": "Deepankar Mullick",
      "photoUrl": "https://lh3.googleusercontent.com/a-/AOh14Ggmz-Nr-0TEMVo13LngNEVm6AGK4c57E-3nMbfK=s64",
      "userId": "02437168663279872146"
     },
     "user_tz": -330
    },
    "id": "e9295d1b"
   },
   "outputs": [],
   "source": [
    "from sklearn.model_selection import train_test_split\n",
    "\n",
    "X_train, X_test, y_train, y_test = train_test_split(X, y, test_size=30000)     # about 12%\n",
    "X_train2, X_test2, y_train2, y_test2 = train_test_split(X2, y2, test_size=30000)   # about 12%"
   ]
  },
  {
   "cell_type": "code",
   "execution_count": null,
   "id": "013fdba5",
   "metadata": {
    "executionInfo": {
     "elapsed": 21,
     "status": "ok",
     "timestamp": 1627804214615,
     "user": {
      "displayName": "Deepankar Mullick",
      "photoUrl": "https://lh3.googleusercontent.com/a-/AOh14Ggmz-Nr-0TEMVo13LngNEVm6AGK4c57E-3nMbfK=s64",
      "userId": "02437168663279872146"
     },
     "user_tz": -330
    },
    "id": "013fdba5"
   },
   "outputs": [],
   "source": []
  },
  {
   "cell_type": "markdown",
   "id": "d179837c",
   "metadata": {
    "id": "d179837c"
   },
   "source": [
    "## Visualizing Weight column:"
   ]
  },
  {
   "cell_type": "code",
   "execution_count": 15,
   "id": "3189cf71",
   "metadata": {
    "colab": {
     "base_uri": "https://localhost:8080/",
     "height": 877
    },
    "executionInfo": {
     "elapsed": 1622,
     "status": "ok",
     "timestamp": 1627804345340,
     "user": {
      "displayName": "Deepankar Mullick",
      "photoUrl": "https://lh3.googleusercontent.com/a-/AOh14Ggmz-Nr-0TEMVo13LngNEVm6AGK4c57E-3nMbfK=s64",
      "userId": "02437168663279872146"
     },
     "user_tz": -330
    },
    "id": "3189cf71",
    "outputId": "354deba0-0254-4424-d2a9-5ff5e3165bc7"
   },
   "outputs": [
    {
     "data": {
      "image/png": "[encoded data removed]",
      "text/plain": [
       "<Figure size 720x504 with 1 Axes>"
      ]
     },
     "metadata": {
      "needs_background": "light"
     },
     "output_type": "display_data"
    }
   ],
   "source": [
    "plt.figure(figsize=(10, 7))\n",
    "sns.histplot(data=df1, x='Weight', hue='Label')\n",
    "plt.show()"
   ]
  },
  {
   "cell_type": "code",
   "execution_count": null,
   "id": "29a8a768",
   "metadata": {
    "executionInfo": {
     "elapsed": 15,
     "status": "ok",
     "timestamp": 1627804347116,
     "user": {
      "displayName": "Deepankar Mullick",
      "photoUrl": "https://lh3.googleusercontent.com/a-/AOh14Ggmz-Nr-0TEMVo13LngNEVm6AGK4c57E-3nMbfK=s64",
      "userId": "02437168663279872146"
     },
     "user_tz": -330
    },
    "id": "29a8a768"
   },
   "outputs": [],
   "source": []
  },
  {
   "cell_type": "markdown",
   "id": "15ede907",
   "metadata": {
    "id": "15ede907"
   },
   "source": [
    "## Grid Search CV:"
   ]
  },
  {
   "cell_type": "code",
   "execution_count": 14,
   "id": "aavFbQJI7JOQ",
   "metadata": {
    "id": "aavFbQJI7JOQ"
   },
   "outputs": [],
   "source": [
    "# import pickle\n",
    "# # Write the object to file\n",
    "# with open('grid_search_info.pkl', 'wb') as f:\n",
    "#     pickle.dump((t1, t2), f)"
   ]
  },
  {
   "cell_type": "markdown",
   "id": "a63944ca",
   "metadata": {
    "id": "-aGgd9Bu7LVU"
   },
   "source": [
    "<b style=\"color: orange; font-size: 20px;\"> Note:</b><br /> <p>Grid Search CV is turning out to be too computationally expensive. So going with `cross_val_score()` & manually saving the models.</p>"
   ]
  },
  {
   "cell_type": "code",
   "execution_count": null,
   "id": "5c841cb8",
   "metadata": {},
   "outputs": [],
   "source": []
  },
  {
   "cell_type": "markdown",
   "id": "68651fba",
   "metadata": {},
   "source": [
    "## Lazy Predict:\n",
    "\n",
    "The below block of code almost took `8 hrs` in my local machine. Hopefully never doing it again!!!"
   ]
  },
  {
   "cell_type": "code",
   "execution_count": 12,
   "id": "9656fb8c",
   "metadata": {},
   "outputs": [
    {
     "name": "stderr",
     "output_type": "stream",
     "text": [
      "f:\\installationfolder\\anaconda\\envs\\higgs_boson\\lib\\site-packages\\sklearn\\utils\\deprecation.py:143: FutureWarning: The sklearn.utils.testing module is  deprecated in version 0.22 and will be removed in version 0.24. The corresponding classes / functions should instead be imported from sklearn.utils. Anything that cannot be imported from sklearn.utils is now part of the private API.\n",
      "  warnings.warn(message, FutureWarning)\n"
     ]
    }
   ],
   "source": [
    "# Import libraries\n",
    "from lazypredict.Supervised import LazyRegressor\n",
    "\n",
    "# Defines and builds the lazyclassifier\n",
    "reg = LazyRegressor(verbose=0, ignore_warnings=False, custom_metric=None)"
   ]
  },
  {
   "cell_type": "code",
   "execution_count": 22,
   "id": "577b3f5d",
   "metadata": {
    "scrolled": true
   },
   "outputs": [
    {
     "name": "stderr",
     "output_type": "stream",
     "text": [
      " 26%|█████████████████████▍                                                            | 11/42 [07:59<23:34, 45.64s/it]"
     ]
    },
    {
     "name": "stdout",
     "output_type": "stream",
     "text": [
      "GaussianProcessRegressor model failed to execute\n",
      "Unable to allocate 361. GiB for an array with shape (220000, 220000) and data type float64\n"
     ]
    },
    {
     "name": "stderr",
     "output_type": "stream",
     "text": [
      " 40%|█████████████████████████████████▏                                                | 17/42 [18:01<39:01, 93.67s/it]"
     ]
    },
    {
     "name": "stdout",
     "output_type": "stream",
     "text": [
      "KernelRidge model failed to execute\n",
      "Unable to allocate 361. GiB for an array with shape (220000, 220000) and data type float64\n"
     ]
    },
    {
     "name": "stderr",
     "output_type": "stream",
     "text": [
      "100%|█████████████████████████████████████████████████████████████████████████████| 42/42 [14:31:21<00:00, 1244.81s/it]\n"
     ]
    },
    {
     "ename": "NameError",
     "evalue": "name 'models_train' is not defined",
     "output_type": "error",
     "traceback": [
      "\u001b[1;31m---------------------------------------------------------------------------\u001b[0m",
      "\u001b[1;31mNameError\u001b[0m                                 Traceback (most recent call last)",
      "\u001b[1;32mC:\\Users\\DEEPAN~1\\AppData\\Local\\Temp/ipykernel_1540/1571841752.py\u001b[0m in \u001b[0;36m<module>\u001b[1;34m\u001b[0m\n\u001b[0;32m      7\u001b[0m \u001b[1;33m\u001b[0m\u001b[0m\n\u001b[0;32m      8\u001b[0m \u001b[1;31m# Prints the model performance\u001b[0m\u001b[1;33m\u001b[0m\u001b[1;33m\u001b[0m\u001b[1;33m\u001b[0m\u001b[0m\n\u001b[1;32m----> 9\u001b[1;33m \u001b[0mmodels_train\u001b[0m\u001b[1;33m\u001b[0m\u001b[1;33m\u001b[0m\u001b[0m\n\u001b[0m",
      "\u001b[1;31mNameError\u001b[0m: name 'models_train' is not defined"
     ]
    }
   ],
   "source": [
    "models, predictions = reg.fit(X_train, X_test, y_train, y_test)\n",
    "\n",
    "# Prints the model performance\n",
    "models"
   ]
  },
  {
   "cell_type": "code",
   "execution_count": 23,
   "id": "68fcc3b3",
   "metadata": {},
   "outputs": [
    {
     "data": {
      "text/html": [
       "<div>\n",
       "<style scoped>\n",
       "    .dataframe tbody tr th:only-of-type {\n",
       "        vertical-align: middle;\n",
       "    }\n",
       "\n",
       "    .dataframe tbody tr th {\n",
       "        vertical-align: top;\n",
       "    }\n",
       "\n",
       "    .dataframe thead th {\n",
       "        text-align: right;\n",
       "    }\n",
       "</style>\n",
       "<table border=\"1\" class=\"dataframe\">\n",
       "  <thead>\n",
       "    <tr style=\"text-align: right;\">\n",
       "      <th></th>\n",
       "      <th>Adjusted R-Squared</th>\n",
       "      <th>R-Squared</th>\n",
       "      <th>RMSE</th>\n",
       "      <th>Time Taken</th>\n",
       "    </tr>\n",
       "    <tr>\n",
       "      <th>Model</th>\n",
       "      <th></th>\n",
       "      <th></th>\n",
       "      <th></th>\n",
       "      <th></th>\n",
       "    </tr>\n",
       "  </thead>\n",
       "  <tbody>\n",
       "    <tr>\n",
       "      <th>HistGradientBoostingRegressor</th>\n",
       "      <td>0.63</td>\n",
       "      <td>0.63</td>\n",
       "      <td>1.15</td>\n",
       "      <td>9.21</td>\n",
       "    </tr>\n",
       "    <tr>\n",
       "      <th>LGBMRegressor</th>\n",
       "      <td>0.63</td>\n",
       "      <td>0.63</td>\n",
       "      <td>1.15</td>\n",
       "      <td>4.15</td>\n",
       "    </tr>\n",
       "    <tr>\n",
       "      <th>MLPRegressor</th>\n",
       "      <td>0.62</td>\n",
       "      <td>0.62</td>\n",
       "      <td>1.15</td>\n",
       "      <td>242.95</td>\n",
       "    </tr>\n",
       "    <tr>\n",
       "      <th>XGBRegressor</th>\n",
       "      <td>0.62</td>\n",
       "      <td>0.62</td>\n",
       "      <td>1.15</td>\n",
       "      <td>55.54</td>\n",
       "    </tr>\n",
       "    <tr>\n",
       "      <th>ExtraTreesRegressor</th>\n",
       "      <td>0.62</td>\n",
       "      <td>0.62</td>\n",
       "      <td>1.15</td>\n",
       "      <td>282.19</td>\n",
       "    </tr>\n",
       "    <tr>\n",
       "      <th>RandomForestRegressor</th>\n",
       "      <td>0.62</td>\n",
       "      <td>0.62</td>\n",
       "      <td>1.16</td>\n",
       "      <td>1444.73</td>\n",
       "    </tr>\n",
       "    <tr>\n",
       "      <th>NuSVR</th>\n",
       "      <td>0.61</td>\n",
       "      <td>0.61</td>\n",
       "      <td>1.17</td>\n",
       "      <td>29308.84</td>\n",
       "    </tr>\n",
       "    <tr>\n",
       "      <th>GradientBoostingRegressor</th>\n",
       "      <td>0.60</td>\n",
       "      <td>0.60</td>\n",
       "      <td>1.18</td>\n",
       "      <td>266.84</td>\n",
       "    </tr>\n",
       "    <tr>\n",
       "      <th>SVR</th>\n",
       "      <td>0.60</td>\n",
       "      <td>0.60</td>\n",
       "      <td>1.18</td>\n",
       "      <td>20098.85</td>\n",
       "    </tr>\n",
       "    <tr>\n",
       "      <th>BaggingRegressor</th>\n",
       "      <td>0.58</td>\n",
       "      <td>0.58</td>\n",
       "      <td>1.21</td>\n",
       "      <td>103.53</td>\n",
       "    </tr>\n",
       "    <tr>\n",
       "      <th>KNeighborsRegressor</th>\n",
       "      <td>0.54</td>\n",
       "      <td>0.54</td>\n",
       "      <td>1.27</td>\n",
       "      <td>320.53</td>\n",
       "    </tr>\n",
       "    <tr>\n",
       "      <th>PoissonRegressor</th>\n",
       "      <td>0.48</td>\n",
       "      <td>0.48</td>\n",
       "      <td>1.35</td>\n",
       "      <td>1.05</td>\n",
       "    </tr>\n",
       "    <tr>\n",
       "      <th>LassoLarsIC</th>\n",
       "      <td>0.48</td>\n",
       "      <td>0.48</td>\n",
       "      <td>1.35</td>\n",
       "      <td>0.68</td>\n",
       "    </tr>\n",
       "    <tr>\n",
       "      <th>LassoCV</th>\n",
       "      <td>0.48</td>\n",
       "      <td>0.48</td>\n",
       "      <td>1.35</td>\n",
       "      <td>4.37</td>\n",
       "    </tr>\n",
       "    <tr>\n",
       "      <th>LassoLarsCV</th>\n",
       "      <td>0.48</td>\n",
       "      <td>0.48</td>\n",
       "      <td>1.35</td>\n",
       "      <td>2.95</td>\n",
       "    </tr>\n",
       "    <tr>\n",
       "      <th>ElasticNetCV</th>\n",
       "      <td>0.48</td>\n",
       "      <td>0.48</td>\n",
       "      <td>1.35</td>\n",
       "      <td>4.28</td>\n",
       "    </tr>\n",
       "    <tr>\n",
       "      <th>BayesianRidge</th>\n",
       "      <td>0.48</td>\n",
       "      <td>0.48</td>\n",
       "      <td>1.35</td>\n",
       "      <td>0.90</td>\n",
       "    </tr>\n",
       "    <tr>\n",
       "      <th>RidgeCV</th>\n",
       "      <td>0.48</td>\n",
       "      <td>0.48</td>\n",
       "      <td>1.35</td>\n",
       "      <td>1.17</td>\n",
       "    </tr>\n",
       "    <tr>\n",
       "      <th>Ridge</th>\n",
       "      <td>0.48</td>\n",
       "      <td>0.48</td>\n",
       "      <td>1.35</td>\n",
       "      <td>0.77</td>\n",
       "    </tr>\n",
       "    <tr>\n",
       "      <th>TransformedTargetRegressor</th>\n",
       "      <td>0.48</td>\n",
       "      <td>0.48</td>\n",
       "      <td>1.35</td>\n",
       "      <td>0.63</td>\n",
       "    </tr>\n",
       "    <tr>\n",
       "      <th>LinearRegression</th>\n",
       "      <td>0.48</td>\n",
       "      <td>0.48</td>\n",
       "      <td>1.35</td>\n",
       "      <td>0.82</td>\n",
       "    </tr>\n",
       "    <tr>\n",
       "      <th>SGDRegressor</th>\n",
       "      <td>0.48</td>\n",
       "      <td>0.48</td>\n",
       "      <td>1.35</td>\n",
       "      <td>1.02</td>\n",
       "    </tr>\n",
       "    <tr>\n",
       "      <th>HuberRegressor</th>\n",
       "      <td>0.47</td>\n",
       "      <td>0.47</td>\n",
       "      <td>1.36</td>\n",
       "      <td>3.82</td>\n",
       "    </tr>\n",
       "    <tr>\n",
       "      <th>LinearSVR</th>\n",
       "      <td>0.46</td>\n",
       "      <td>0.46</td>\n",
       "      <td>1.37</td>\n",
       "      <td>19.19</td>\n",
       "    </tr>\n",
       "    <tr>\n",
       "      <th>GammaRegressor</th>\n",
       "      <td>0.45</td>\n",
       "      <td>0.45</td>\n",
       "      <td>1.39</td>\n",
       "      <td>0.80</td>\n",
       "    </tr>\n",
       "    <tr>\n",
       "      <th>AdaBoostRegressor</th>\n",
       "      <td>0.45</td>\n",
       "      <td>0.45</td>\n",
       "      <td>1.39</td>\n",
       "      <td>64.81</td>\n",
       "    </tr>\n",
       "    <tr>\n",
       "      <th>OrthogonalMatchingPursuitCV</th>\n",
       "      <td>0.44</td>\n",
       "      <td>0.44</td>\n",
       "      <td>1.40</td>\n",
       "      <td>3.18</td>\n",
       "    </tr>\n",
       "    <tr>\n",
       "      <th>GeneralizedLinearRegressor</th>\n",
       "      <td>0.43</td>\n",
       "      <td>0.43</td>\n",
       "      <td>1.42</td>\n",
       "      <td>0.63</td>\n",
       "    </tr>\n",
       "    <tr>\n",
       "      <th>TweedieRegressor</th>\n",
       "      <td>0.43</td>\n",
       "      <td>0.43</td>\n",
       "      <td>1.42</td>\n",
       "      <td>0.56</td>\n",
       "    </tr>\n",
       "    <tr>\n",
       "      <th>LarsCV</th>\n",
       "      <td>0.43</td>\n",
       "      <td>0.43</td>\n",
       "      <td>1.42</td>\n",
       "      <td>3.00</td>\n",
       "    </tr>\n",
       "    <tr>\n",
       "      <th>OrthogonalMatchingPursuit</th>\n",
       "      <td>0.37</td>\n",
       "      <td>0.37</td>\n",
       "      <td>1.49</td>\n",
       "      <td>0.83</td>\n",
       "    </tr>\n",
       "    <tr>\n",
       "      <th>ElasticNet</th>\n",
       "      <td>0.25</td>\n",
       "      <td>0.25</td>\n",
       "      <td>1.63</td>\n",
       "      <td>0.56</td>\n",
       "    </tr>\n",
       "    <tr>\n",
       "      <th>DecisionTreeRegressor</th>\n",
       "      <td>0.23</td>\n",
       "      <td>0.23</td>\n",
       "      <td>1.64</td>\n",
       "      <td>18.67</td>\n",
       "    </tr>\n",
       "    <tr>\n",
       "      <th>ExtraTreeRegressor</th>\n",
       "      <td>0.20</td>\n",
       "      <td>0.20</td>\n",
       "      <td>1.68</td>\n",
       "      <td>3.15</td>\n",
       "    </tr>\n",
       "    <tr>\n",
       "      <th>DummyRegressor</th>\n",
       "      <td>-0.00</td>\n",
       "      <td>-0.00</td>\n",
       "      <td>1.87</td>\n",
       "      <td>0.38</td>\n",
       "    </tr>\n",
       "    <tr>\n",
       "      <th>LassoLars</th>\n",
       "      <td>-0.00</td>\n",
       "      <td>-0.00</td>\n",
       "      <td>1.87</td>\n",
       "      <td>0.47</td>\n",
       "    </tr>\n",
       "    <tr>\n",
       "      <th>Lasso</th>\n",
       "      <td>-0.00</td>\n",
       "      <td>-0.00</td>\n",
       "      <td>1.87</td>\n",
       "      <td>0.54</td>\n",
       "    </tr>\n",
       "    <tr>\n",
       "      <th>PassiveAggressiveRegressor</th>\n",
       "      <td>-0.03</td>\n",
       "      <td>-0.03</td>\n",
       "      <td>1.90</td>\n",
       "      <td>1.43</td>\n",
       "    </tr>\n",
       "    <tr>\n",
       "      <th>Lars</th>\n",
       "      <td>-0.12</td>\n",
       "      <td>-0.12</td>\n",
       "      <td>1.98</td>\n",
       "      <td>0.49</td>\n",
       "    </tr>\n",
       "    <tr>\n",
       "      <th>RANSACRegressor</th>\n",
       "      <td>-2.60</td>\n",
       "      <td>-2.60</td>\n",
       "      <td>3.55</td>\n",
       "      <td>2.51</td>\n",
       "    </tr>\n",
       "  </tbody>\n",
       "</table>\n",
       "</div>"
      ],
      "text/plain": [
       "                               Adjusted R-Squared  R-Squared  RMSE  Time Taken\n",
       "Model                                                                         \n",
       "HistGradientBoostingRegressor                0.63       0.63  1.15        9.21\n",
       "LGBMRegressor                                0.63       0.63  1.15        4.15\n",
       "MLPRegressor                                 0.62       0.62  1.15      242.95\n",
       "XGBRegressor                                 0.62       0.62  1.15       55.54\n",
       "ExtraTreesRegressor                          0.62       0.62  1.15      282.19\n",
       "RandomForestRegressor                        0.62       0.62  1.16     1444.73\n",
       "NuSVR                                        0.61       0.61  1.17    29308.84\n",
       "GradientBoostingRegressor                    0.60       0.60  1.18      266.84\n",
       "SVR                                          0.60       0.60  1.18    20098.85\n",
       "BaggingRegressor                             0.58       0.58  1.21      103.53\n",
       "KNeighborsRegressor                          0.54       0.54  1.27      320.53\n",
       "PoissonRegressor                             0.48       0.48  1.35        1.05\n",
       "LassoLarsIC                                  0.48       0.48  1.35        0.68\n",
       "LassoCV                                      0.48       0.48  1.35        4.37\n",
       "LassoLarsCV                                  0.48       0.48  1.35        2.95\n",
       "ElasticNetCV                                 0.48       0.48  1.35        4.28\n",
       "BayesianRidge                                0.48       0.48  1.35        0.90\n",
       "RidgeCV                                      0.48       0.48  1.35        1.17\n",
       "Ridge                                        0.48       0.48  1.35        0.77\n",
       "TransformedTargetRegressor                   0.48       0.48  1.35        0.63\n",
       "LinearRegression                             0.48       0.48  1.35        0.82\n",
       "SGDRegressor                                 0.48       0.48  1.35        1.02\n",
       "HuberRegressor                               0.47       0.47  1.36        3.82\n",
       "LinearSVR                                    0.46       0.46  1.37       19.19\n",
       "GammaRegressor                               0.45       0.45  1.39        0.80\n",
       "AdaBoostRegressor                            0.45       0.45  1.39       64.81\n",
       "OrthogonalMatchingPursuitCV                  0.44       0.44  1.40        3.18\n",
       "GeneralizedLinearRegressor                   0.43       0.43  1.42        0.63\n",
       "TweedieRegressor                             0.43       0.43  1.42        0.56\n",
       "LarsCV                                       0.43       0.43  1.42        3.00\n",
       "OrthogonalMatchingPursuit                    0.37       0.37  1.49        0.83\n",
       "ElasticNet                                   0.25       0.25  1.63        0.56\n",
       "DecisionTreeRegressor                        0.23       0.23  1.64       18.67\n",
       "ExtraTreeRegressor                           0.20       0.20  1.68        3.15\n",
       "DummyRegressor                              -0.00      -0.00  1.87        0.38\n",
       "LassoLars                                   -0.00      -0.00  1.87        0.47\n",
       "Lasso                                       -0.00      -0.00  1.87        0.54\n",
       "PassiveAggressiveRegressor                  -0.03      -0.03  1.90        1.43\n",
       "Lars                                        -0.12      -0.12  1.98        0.49\n",
       "RANSACRegressor                             -2.60      -2.60  3.55        2.51"
      ]
     },
     "execution_count": 23,
     "metadata": {},
     "output_type": "execute_result"
    }
   ],
   "source": [
    "models"
   ]
  },
  {
   "cell_type": "code",
   "execution_count": 24,
   "id": "918ea1f8",
   "metadata": {},
   "outputs": [
    {
     "data": {
      "text/html": [
       "<div>\n",
       "<style scoped>\n",
       "    .dataframe tbody tr th:only-of-type {\n",
       "        vertical-align: middle;\n",
       "    }\n",
       "\n",
       "    .dataframe tbody tr th {\n",
       "        vertical-align: top;\n",
       "    }\n",
       "\n",
       "    .dataframe thead th {\n",
       "        text-align: right;\n",
       "    }\n",
       "</style>\n",
       "<table border=\"1\" class=\"dataframe\">\n",
       "  <thead>\n",
       "    <tr style=\"text-align: right;\">\n",
       "      <th></th>\n",
       "      <th>Adjusted R-Squared</th>\n",
       "      <th>R-Squared</th>\n",
       "      <th>RMSE</th>\n",
       "      <th>Time Taken</th>\n",
       "    </tr>\n",
       "    <tr>\n",
       "      <th>Model</th>\n",
       "      <th></th>\n",
       "      <th></th>\n",
       "      <th></th>\n",
       "      <th></th>\n",
       "    </tr>\n",
       "  </thead>\n",
       "  <tbody>\n",
       "    <tr>\n",
       "      <th>HistGradientBoostingRegressor</th>\n",
       "      <td>0.63</td>\n",
       "      <td>0.63</td>\n",
       "      <td>1.15</td>\n",
       "      <td>9.21</td>\n",
       "    </tr>\n",
       "    <tr>\n",
       "      <th>LGBMRegressor</th>\n",
       "      <td>0.63</td>\n",
       "      <td>0.63</td>\n",
       "      <td>1.15</td>\n",
       "      <td>4.15</td>\n",
       "    </tr>\n",
       "    <tr>\n",
       "      <th>MLPRegressor</th>\n",
       "      <td>0.62</td>\n",
       "      <td>0.62</td>\n",
       "      <td>1.15</td>\n",
       "      <td>242.95</td>\n",
       "    </tr>\n",
       "    <tr>\n",
       "      <th>XGBRegressor</th>\n",
       "      <td>0.62</td>\n",
       "      <td>0.62</td>\n",
       "      <td>1.15</td>\n",
       "      <td>55.54</td>\n",
       "    </tr>\n",
       "    <tr>\n",
       "      <th>ExtraTreesRegressor</th>\n",
       "      <td>0.62</td>\n",
       "      <td>0.62</td>\n",
       "      <td>1.15</td>\n",
       "      <td>282.19</td>\n",
       "    </tr>\n",
       "    <tr>\n",
       "      <th>RandomForestRegressor</th>\n",
       "      <td>0.62</td>\n",
       "      <td>0.62</td>\n",
       "      <td>1.16</td>\n",
       "      <td>1444.73</td>\n",
       "    </tr>\n",
       "    <tr>\n",
       "      <th>NuSVR</th>\n",
       "      <td>0.61</td>\n",
       "      <td>0.61</td>\n",
       "      <td>1.17</td>\n",
       "      <td>29308.84</td>\n",
       "    </tr>\n",
       "    <tr>\n",
       "      <th>GradientBoostingRegressor</th>\n",
       "      <td>0.60</td>\n",
       "      <td>0.60</td>\n",
       "      <td>1.18</td>\n",
       "      <td>266.84</td>\n",
       "    </tr>\n",
       "    <tr>\n",
       "      <th>SVR</th>\n",
       "      <td>0.60</td>\n",
       "      <td>0.60</td>\n",
       "      <td>1.18</td>\n",
       "      <td>20098.85</td>\n",
       "    </tr>\n",
       "    <tr>\n",
       "      <th>BaggingRegressor</th>\n",
       "      <td>0.58</td>\n",
       "      <td>0.58</td>\n",
       "      <td>1.21</td>\n",
       "      <td>103.53</td>\n",
       "    </tr>\n",
       "    <tr>\n",
       "      <th>KNeighborsRegressor</th>\n",
       "      <td>0.54</td>\n",
       "      <td>0.54</td>\n",
       "      <td>1.27</td>\n",
       "      <td>320.53</td>\n",
       "    </tr>\n",
       "    <tr>\n",
       "      <th>PoissonRegressor</th>\n",
       "      <td>0.48</td>\n",
       "      <td>0.48</td>\n",
       "      <td>1.35</td>\n",
       "      <td>1.05</td>\n",
       "    </tr>\n",
       "    <tr>\n",
       "      <th>LassoLarsIC</th>\n",
       "      <td>0.48</td>\n",
       "      <td>0.48</td>\n",
       "      <td>1.35</td>\n",
       "      <td>0.68</td>\n",
       "    </tr>\n",
       "    <tr>\n",
       "      <th>LassoCV</th>\n",
       "      <td>0.48</td>\n",
       "      <td>0.48</td>\n",
       "      <td>1.35</td>\n",
       "      <td>4.37</td>\n",
       "    </tr>\n",
       "    <tr>\n",
       "      <th>LassoLarsCV</th>\n",
       "      <td>0.48</td>\n",
       "      <td>0.48</td>\n",
       "      <td>1.35</td>\n",
       "      <td>2.95</td>\n",
       "    </tr>\n",
       "    <tr>\n",
       "      <th>ElasticNetCV</th>\n",
       "      <td>0.48</td>\n",
       "      <td>0.48</td>\n",
       "      <td>1.35</td>\n",
       "      <td>4.28</td>\n",
       "    </tr>\n",
       "    <tr>\n",
       "      <th>BayesianRidge</th>\n",
       "      <td>0.48</td>\n",
       "      <td>0.48</td>\n",
       "      <td>1.35</td>\n",
       "      <td>0.90</td>\n",
       "    </tr>\n",
       "    <tr>\n",
       "      <th>RidgeCV</th>\n",
       "      <td>0.48</td>\n",
       "      <td>0.48</td>\n",
       "      <td>1.35</td>\n",
       "      <td>1.17</td>\n",
       "    </tr>\n",
       "    <tr>\n",
       "      <th>Ridge</th>\n",
       "      <td>0.48</td>\n",
       "      <td>0.48</td>\n",
       "      <td>1.35</td>\n",
       "      <td>0.77</td>\n",
       "    </tr>\n",
       "    <tr>\n",
       "      <th>TransformedTargetRegressor</th>\n",
       "      <td>0.48</td>\n",
       "      <td>0.48</td>\n",
       "      <td>1.35</td>\n",
       "      <td>0.63</td>\n",
       "    </tr>\n",
       "    <tr>\n",
       "      <th>LinearRegression</th>\n",
       "      <td>0.48</td>\n",
       "      <td>0.48</td>\n",
       "      <td>1.35</td>\n",
       "      <td>0.82</td>\n",
       "    </tr>\n",
       "    <tr>\n",
       "      <th>SGDRegressor</th>\n",
       "      <td>0.48</td>\n",
       "      <td>0.48</td>\n",
       "      <td>1.35</td>\n",
       "      <td>1.02</td>\n",
       "    </tr>\n",
       "    <tr>\n",
       "      <th>HuberRegressor</th>\n",
       "      <td>0.47</td>\n",
       "      <td>0.47</td>\n",
       "      <td>1.36</td>\n",
       "      <td>3.82</td>\n",
       "    </tr>\n",
       "    <tr>\n",
       "      <th>LinearSVR</th>\n",
       "      <td>0.46</td>\n",
       "      <td>0.46</td>\n",
       "      <td>1.37</td>\n",
       "      <td>19.19</td>\n",
       "    </tr>\n",
       "    <tr>\n",
       "      <th>GammaRegressor</th>\n",
       "      <td>0.45</td>\n",
       "      <td>0.45</td>\n",
       "      <td>1.39</td>\n",
       "      <td>0.80</td>\n",
       "    </tr>\n",
       "    <tr>\n",
       "      <th>AdaBoostRegressor</th>\n",
       "      <td>0.45</td>\n",
       "      <td>0.45</td>\n",
       "      <td>1.39</td>\n",
       "      <td>64.81</td>\n",
       "    </tr>\n",
       "    <tr>\n",
       "      <th>OrthogonalMatchingPursuitCV</th>\n",
       "      <td>0.44</td>\n",
       "      <td>0.44</td>\n",
       "      <td>1.40</td>\n",
       "      <td>3.18</td>\n",
       "    </tr>\n",
       "    <tr>\n",
       "      <th>GeneralizedLinearRegressor</th>\n",
       "      <td>0.43</td>\n",
       "      <td>0.43</td>\n",
       "      <td>1.42</td>\n",
       "      <td>0.63</td>\n",
       "    </tr>\n",
       "    <tr>\n",
       "      <th>TweedieRegressor</th>\n",
       "      <td>0.43</td>\n",
       "      <td>0.43</td>\n",
       "      <td>1.42</td>\n",
       "      <td>0.56</td>\n",
       "    </tr>\n",
       "    <tr>\n",
       "      <th>LarsCV</th>\n",
       "      <td>0.43</td>\n",
       "      <td>0.43</td>\n",
       "      <td>1.42</td>\n",
       "      <td>3.00</td>\n",
       "    </tr>\n",
       "    <tr>\n",
       "      <th>OrthogonalMatchingPursuit</th>\n",
       "      <td>0.37</td>\n",
       "      <td>0.37</td>\n",
       "      <td>1.49</td>\n",
       "      <td>0.83</td>\n",
       "    </tr>\n",
       "    <tr>\n",
       "      <th>ElasticNet</th>\n",
       "      <td>0.25</td>\n",
       "      <td>0.25</td>\n",
       "      <td>1.63</td>\n",
       "      <td>0.56</td>\n",
       "    </tr>\n",
       "    <tr>\n",
       "      <th>DecisionTreeRegressor</th>\n",
       "      <td>0.23</td>\n",
       "      <td>0.23</td>\n",
       "      <td>1.64</td>\n",
       "      <td>18.67</td>\n",
       "    </tr>\n",
       "    <tr>\n",
       "      <th>ExtraTreeRegressor</th>\n",
       "      <td>0.20</td>\n",
       "      <td>0.20</td>\n",
       "      <td>1.68</td>\n",
       "      <td>3.15</td>\n",
       "    </tr>\n",
       "    <tr>\n",
       "      <th>DummyRegressor</th>\n",
       "      <td>-0.00</td>\n",
       "      <td>-0.00</td>\n",
       "      <td>1.87</td>\n",
       "      <td>0.38</td>\n",
       "    </tr>\n",
       "    <tr>\n",
       "      <th>LassoLars</th>\n",
       "      <td>-0.00</td>\n",
       "      <td>-0.00</td>\n",
       "      <td>1.87</td>\n",
       "      <td>0.47</td>\n",
       "    </tr>\n",
       "    <tr>\n",
       "      <th>Lasso</th>\n",
       "      <td>-0.00</td>\n",
       "      <td>-0.00</td>\n",
       "      <td>1.87</td>\n",
       "      <td>0.54</td>\n",
       "    </tr>\n",
       "    <tr>\n",
       "      <th>PassiveAggressiveRegressor</th>\n",
       "      <td>-0.03</td>\n",
       "      <td>-0.03</td>\n",
       "      <td>1.90</td>\n",
       "      <td>1.43</td>\n",
       "    </tr>\n",
       "    <tr>\n",
       "      <th>Lars</th>\n",
       "      <td>-0.12</td>\n",
       "      <td>-0.12</td>\n",
       "      <td>1.98</td>\n",
       "      <td>0.49</td>\n",
       "    </tr>\n",
       "    <tr>\n",
       "      <th>RANSACRegressor</th>\n",
       "      <td>-2.60</td>\n",
       "      <td>-2.60</td>\n",
       "      <td>3.55</td>\n",
       "      <td>2.51</td>\n",
       "    </tr>\n",
       "  </tbody>\n",
       "</table>\n",
       "</div>"
      ],
      "text/plain": [
       "                               Adjusted R-Squared  R-Squared  RMSE  Time Taken\n",
       "Model                                                                         \n",
       "HistGradientBoostingRegressor                0.63       0.63  1.15        9.21\n",
       "LGBMRegressor                                0.63       0.63  1.15        4.15\n",
       "MLPRegressor                                 0.62       0.62  1.15      242.95\n",
       "XGBRegressor                                 0.62       0.62  1.15       55.54\n",
       "ExtraTreesRegressor                          0.62       0.62  1.15      282.19\n",
       "RandomForestRegressor                        0.62       0.62  1.16     1444.73\n",
       "NuSVR                                        0.61       0.61  1.17    29308.84\n",
       "GradientBoostingRegressor                    0.60       0.60  1.18      266.84\n",
       "SVR                                          0.60       0.60  1.18    20098.85\n",
       "BaggingRegressor                             0.58       0.58  1.21      103.53\n",
       "KNeighborsRegressor                          0.54       0.54  1.27      320.53\n",
       "PoissonRegressor                             0.48       0.48  1.35        1.05\n",
       "LassoLarsIC                                  0.48       0.48  1.35        0.68\n",
       "LassoCV                                      0.48       0.48  1.35        4.37\n",
       "LassoLarsCV                                  0.48       0.48  1.35        2.95\n",
       "ElasticNetCV                                 0.48       0.48  1.35        4.28\n",
       "BayesianRidge                                0.48       0.48  1.35        0.90\n",
       "RidgeCV                                      0.48       0.48  1.35        1.17\n",
       "Ridge                                        0.48       0.48  1.35        0.77\n",
       "TransformedTargetRegressor                   0.48       0.48  1.35        0.63\n",
       "LinearRegression                             0.48       0.48  1.35        0.82\n",
       "SGDRegressor                                 0.48       0.48  1.35        1.02\n",
       "HuberRegressor                               0.47       0.47  1.36        3.82\n",
       "LinearSVR                                    0.46       0.46  1.37       19.19\n",
       "GammaRegressor                               0.45       0.45  1.39        0.80\n",
       "AdaBoostRegressor                            0.45       0.45  1.39       64.81\n",
       "OrthogonalMatchingPursuitCV                  0.44       0.44  1.40        3.18\n",
       "GeneralizedLinearRegressor                   0.43       0.43  1.42        0.63\n",
       "TweedieRegressor                             0.43       0.43  1.42        0.56\n",
       "LarsCV                                       0.43       0.43  1.42        3.00\n",
       "OrthogonalMatchingPursuit                    0.37       0.37  1.49        0.83\n",
       "ElasticNet                                   0.25       0.25  1.63        0.56\n",
       "DecisionTreeRegressor                        0.23       0.23  1.64       18.67\n",
       "ExtraTreeRegressor                           0.20       0.20  1.68        3.15\n",
       "DummyRegressor                              -0.00      -0.00  1.87        0.38\n",
       "LassoLars                                   -0.00      -0.00  1.87        0.47\n",
       "Lasso                                       -0.00      -0.00  1.87        0.54\n",
       "PassiveAggressiveRegressor                  -0.03      -0.03  1.90        1.43\n",
       "Lars                                        -0.12      -0.12  1.98        0.49\n",
       "RANSACRegressor                             -2.60      -2.60  3.55        2.51"
      ]
     },
     "execution_count": 24,
     "metadata": {},
     "output_type": "execute_result"
    }
   ],
   "source": [
    "predictions"
   ]
  },
  {
   "cell_type": "code",
   "execution_count": 41,
   "id": "f5b249ff",
   "metadata": {},
   "outputs": [
    {
     "name": "stdout",
     "output_type": "stream",
     "text": [
      "[WinError 183] Cannot create a file when that file already exists: '../reports/lazypredict'\n"
     ]
    }
   ],
   "source": [
    "try:\n",
    "    os.mkdir(r'../reports/lazypredict')\n",
    "    os.mkdir(r'../reports/lazypredict/regg')\n",
    "except FileExistsError as fee:\n",
    "    print(fee)"
   ]
  },
  {
   "cell_type": "code",
   "execution_count": 18,
   "id": "c7316277",
   "metadata": {},
   "outputs": [
    {
     "data": {
      "text/plain": [
       "'sklearn==0.23.1\\nlazypredict==0.2.9'"
      ]
     },
     "execution_count": 18,
     "metadata": {},
     "output_type": "execute_result"
    }
   ],
   "source": [
    "import sklearn\n",
    "ver = 'sklearn==' + str(sklearn.__version__) + '\\nlazypredict==0.2.9'\n",
    "ver"
   ]
  },
  {
   "cell_type": "code",
   "execution_count": 19,
   "id": "ca786125",
   "metadata": {},
   "outputs": [],
   "source": [
    "with open('../reports/lazypredict/regg/dependency.txt', 'w') as fp:\n",
    "    fp.write(ver)"
   ]
  },
  {
   "cell_type": "code",
   "execution_count": 25,
   "id": "c7c9d634",
   "metadata": {},
   "outputs": [
    {
     "data": {
      "text/plain": [
       "'2_12_10_9_2021'"
      ]
     },
     "execution_count": 25,
     "metadata": {},
     "output_type": "execute_result"
    }
   ],
   "source": [
    "sub = str(time.localtime().tm_hour) + '_' + str(time.localtime().tm_min) \\\n",
    "    + '_' + str(time.localtime().tm_mday) + '_' + str(time.localtime().tm_mon) \\\n",
    "    + '_' + str(time.localtime().tm_year)\n",
    "sub"
   ]
  },
  {
   "cell_type": "code",
   "execution_count": 29,
   "id": "f2784fa6",
   "metadata": {},
   "outputs": [
    {
     "name": "stdout",
     "output_type": "stream",
     "text": [
      "Model saved in reports folder...\n",
      "Model saved in models folder...\n"
     ]
    }
   ],
   "source": [
    "# Saving LazyPredict csv files & model for future refernce\n",
    "models.to_csv(f\"../reports/lazypredict/regg/train_{sub}.csv\", index=False)\n",
    "predictions.to_csv(f\"../reports/lazypredict/regg/predict_{sub}.csv\", index=False)\n",
    "\n",
    "\n",
    "# Saving lazypredict model\n",
    "# The saved file is 3.57 GB & must be added in gitignore\n",
    "with open(f'../reports/lazypredict/regg/Lazypredict_regg_model_{sub}.pkl', 'wb') as fptr:\n",
    "    pickle.dump(reg, fptr)\n",
    "    print('Model saved in reports folder...')\n",
    "    \n",
    "# Saving also in models folder:\n",
    "with open(f'../models/regg/Lazypredict_regg_model_{sub}.pkl', 'wb') as fptr:\n",
    "    pickle.dump(reg, fptr)\n",
    "    print('Model saved in models folder...')"
   ]
  },
  {
   "cell_type": "code",
   "execution_count": null,
   "id": "62931587",
   "metadata": {},
   "outputs": [],
   "source": []
  },
  {
   "cell_type": "code",
   "execution_count": null,
   "id": "9a996e20",
   "metadata": {},
   "outputs": [],
   "source": []
  },
  {
   "cell_type": "markdown",
   "id": "47a627c0",
   "metadata": {},
   "source": [
    "### Metrics:\n",
    "\n",
    "Use sorted(sklearn.metrics.SCORERS.keys()) to get valid scoring options."
   ]
  },
  {
   "cell_type": "code",
   "execution_count": 16,
   "id": "b9bbb423",
   "metadata": {},
   "outputs": [
    {
     "data": {
      "text/plain": [
       "dict_keys(['explained_variance', 'r2', 'max_error', 'neg_median_absolute_error', 'neg_mean_absolute_error', 'neg_mean_absolute_percentage_error', 'neg_mean_squared_error', 'neg_mean_squared_log_error', 'neg_root_mean_squared_error', 'neg_mean_poisson_deviance', 'neg_mean_gamma_deviance', 'accuracy', 'top_k_accuracy', 'roc_auc', 'roc_auc_ovr', 'roc_auc_ovo', 'roc_auc_ovr_weighted', 'roc_auc_ovo_weighted', 'balanced_accuracy', 'average_precision', 'neg_log_loss', 'neg_brier_score', 'adjusted_rand_score', 'rand_score', 'homogeneity_score', 'completeness_score', 'v_measure_score', 'mutual_info_score', 'adjusted_mutual_info_score', 'normalized_mutual_info_score', 'fowlkes_mallows_score', 'precision', 'precision_macro', 'precision_micro', 'precision_samples', 'precision_weighted', 'recall', 'recall_macro', 'recall_micro', 'recall_samples', 'recall_weighted', 'f1', 'f1_macro', 'f1_micro', 'f1_samples', 'f1_weighted', 'jaccard', 'jaccard_macro', 'jaccard_micro', 'jaccard_samples', 'jaccard_weighted'])"
      ]
     },
     "execution_count": 16,
     "metadata": {},
     "output_type": "execute_result"
    }
   ],
   "source": [
    "from sklearn.metrics import SCORERS\n",
    "SCORERS.keys()"
   ]
  },
  {
   "cell_type": "code",
   "execution_count": null,
   "id": "e6c4580c",
   "metadata": {},
   "outputs": [],
   "source": []
  },
  {
   "cell_type": "code",
   "execution_count": null,
   "id": "3a9c8e8c",
   "metadata": {
    "id": "3a9c8e8c"
   },
   "outputs": [],
   "source": [
    "# For changing styling:\n",
    "# from IPython.core.display import HTML\n",
    "# def css_styling():\n",
    "#     styles = open(\"styles/custom.css\", \"r\").read()\n",
    "#     return HTML(styles)\n",
    "# css_styling()"
   ]
  }
 ],
 "metadata": {
  "accelerator": "GPU",
  "colab": {
   "collapsed_sections": [],
   "name": "03-Training_model_to_predict_Weight.ipynb",
   "provenance": []
  },
  "kernelspec": {
   "display_name": "Python 3 (ipykernel)",
   "language": "python",
   "name": "python3"
  },
  "language_info": {
   "codemirror_mode": {
    "name": "ipython",
    "version": 3
   },
   "file_extension": ".py",
   "mimetype": "text/x-python",
   "name": "python",
   "nbconvert_exporter": "python",
   "pygments_lexer": "ipython3",
   "version": "3.7.10"
  }
 },
 "nbformat": 4,
 "nbformat_minor": 5
}
